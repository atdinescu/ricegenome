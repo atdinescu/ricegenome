{
  "nbformat": 4,
  "nbformat_minor": 0,
  "metadata": {
    "colab": {
      "name": "RegressionModel.ipynb",
      "provenance": [],
      "collapsed_sections": [],
      "toc_visible": true,
      "authorship_tag": "ABX9TyNC4VQLv3ABwQfT8m4a3tuQ",
      "include_colab_link": true
    },
    "kernelspec": {
      "name": "python3",
      "display_name": "Python 3"
    }
  },
  "cells": [
    {
      "cell_type": "markdown",
      "metadata": {
        "id": "view-in-github",
        "colab_type": "text"
      },
      "source": [
        "<a href=\"https://colab.research.google.com/github/atdinescu/ricegenome/blob/master/RegressionModel.ipynb\" target=\"_parent\"><img src=\"https://colab.research.google.com/assets/colab-badge.svg\" alt=\"Open In Colab\"/></a>"
      ]
    },
    {
      "cell_type": "code",
      "metadata": {
        "id": "LMoueZaI0B2c",
        "colab_type": "code",
        "outputId": "6e66944b-841e-4f9f-beb9-439e907f413f",
        "colab": {
          "base_uri": "https://localhost:8080/",
          "height": 34
        }
      },
      "source": [
        "#Now, let's link to your GoogleDrive. Run this cell and follow the authorization instructions:\n",
        "#(We recommend putting a copy of the github repo in your google drive if you are using the demo \"examples\")\n",
        "\n",
        "from google.colab import drive\n",
        "drive.mount('/content/drive')"
      ],
      "execution_count": 5,
      "outputs": [
        {
          "output_type": "stream",
          "text": [
            "Drive already mounted at /content/drive; to attempt to forcibly remount, call drive.mount(\"/content/drive\", force_remount=True).\n"
          ],
          "name": "stdout"
        }
      ]
    },
    {
      "cell_type": "code",
      "metadata": {
        "id": "_rRJeMY3rJE4",
        "colab_type": "code",
        "colab": {}
      },
      "source": [
        "path = '/content/drive/My Drive/Rice genomics project/final results/new/'"
      ],
      "execution_count": 0,
      "outputs": []
    },
    {
      "cell_type": "markdown",
      "metadata": {
        "id": "937KKJ3FsPQZ",
        "colab_type": "text"
      },
      "source": [
        ""
      ]
    },
    {
      "cell_type": "markdown",
      "metadata": {
        "id": "EfMZ5FyPykEq",
        "colab_type": "text"
      },
      "source": [
        "# Preprocessing data for models"
      ]
    },
    {
      "cell_type": "markdown",
      "metadata": {
        "id": "HmAHHh4fsPVA",
        "colab_type": "text"
      },
      "source": [
        "### Install scikit-allel"
      ]
    },
    {
      "cell_type": "code",
      "metadata": {
        "id": "ADYQLCETxj_t",
        "colab_type": "code",
        "colab": {}
      },
      "source": [
        "!pip install scikit-allel"
      ],
      "execution_count": 0,
      "outputs": []
    },
    {
      "cell_type": "code",
      "metadata": {
        "id": "bNEdAplGyq73",
        "colab_type": "code",
        "colab": {}
      },
      "source": [
        "import numpy as np\n",
        "\n",
        "import allel\n",
        "# check which version is installed\n",
        "print(allel.__version__)"
      ],
      "execution_count": 0,
      "outputs": []
    },
    {
      "cell_type": "markdown",
      "metadata": {
        "id": "88OY_Lt86qTV",
        "colab_type": "text"
      },
      "source": [
        "### Convert vcf file to numpy array and save to drive"
      ]
    },
    {
      "cell_type": "code",
      "metadata": {
        "id": "5GqeMiz4ysNx",
        "colab_type": "code",
        "colab": {}
      },
      "source": [
        "allel.vcf_to_npz('/content/drive/My Drive/Rice genomics project/final results/new/aus_perm_grain_pvalue_0.00001.vcf', path/'/content/drive/My Drive/Rice genomics project/final results/new/aus_grain_0.00001.npz', fields='*', overwrite=True)\n",
        "allel.vcf_to_npz('/content/drive/My Drive/Rice genomics project/final results/new/indica_grain_0.000001.vcf', '/content/drive/My Drive/Rice genomics project/final results/new/indica_grain_0.000001.npz', fields='*', overwrite=True)"
      ],
      "execution_count": 0,
      "outputs": []
    },
    {
      "cell_type": "code",
      "metadata": {
        "id": "8d2rF0ImVu16",
        "colab_type": "code",
        "colab": {}
      },
      "source": [
        "allel.vcf_to_npz('/content/drive/My Drive/Rice genomics project/final results/new/aus_perm_salt.vcf', '/content/drive/My Drive/Rice genomics project/final results/new/aus_salt.npz', fields='*', overwrite=True)\n",
        "allel.vcf_to_npz('/content/drive/My Drive/Rice genomics project/final results/new/indica_salt.vcf', '/content/drive/My Drive/Rice genomics project/final results/new/indica_salt.npz', fields='*', overwrite=True)\n",
        "allel.vcf_to_npz('/content/drive/My Drive/Rice genomics project/final results/new/aus_perm_time.vcf', '/content/drive/My Drive/Rice genomics project/final results/new/aus_time.npz', fields='*', overwrite=True)\n",
        "allel.vcf_to_npz('/content/drive/My Drive/Rice genomics project/final results/new/indica_time.vcf', '/content/drive/My Drive/Rice genomics project/final results/new/indica_time.npz', fields='*', overwrite=True)"
      ],
      "execution_count": 0,
      "outputs": []
    },
    {
      "cell_type": "markdown",
      "metadata": {
        "id": "GbJDXdTiwQZb",
        "colab_type": "text"
      },
      "source": [
        "### Read in genotype data as numpy array and encode SNP markers as {-1,0,1}"
      ]
    },
    {
      "cell_type": "code",
      "metadata": {
        "id": "ITh3fPfDywos",
        "colab_type": "code",
        "colab": {}
      },
      "source": [
        "import numpy as np\n",
        "aus_grain_callset = np.load('/content/drive/My Drive/Rice genomics project/final results/new/aus_grain_0.00001.npz',  allow_pickle = True)\n",
        "indica_grain_callset = np.load('/content/drive/My Drive/Rice genomics project/final results/new/indica_grain_0.000001.npz',  allow_pickle = True)"
      ],
      "execution_count": 0,
      "outputs": []
    },
    {
      "cell_type": "code",
      "metadata": {
        "id": "61KFcQLAWAwP",
        "colab_type": "code",
        "colab": {}
      },
      "source": [
        "aus_salt_callset = np.load('/content/drive/My Drive/Rice genomics project/final results/new/aus_salt.npz',  allow_pickle = True)\n",
        "indica_salt_callset = np.load('/content/drive/My Drive/Rice genomics project/final results/new/indica_salt.npz',  allow_pickle = True)\n",
        "\n",
        "aus_time_callset = np.load('/content/drive/My Drive/Rice genomics project/final results/new/aus_time.npz',  allow_pickle = True)\n",
        "indica_time_callset = np.load('/content/drive/My Drive/Rice genomics project/final results/new/indica_time.npz',  allow_pickle = True)"
      ],
      "execution_count": 0,
      "outputs": []
    },
    {
      "cell_type": "code",
      "metadata": {
        "id": "2FzEefqoyyXY",
        "colab_type": "code",
        "outputId": "ea1206a6-22fb-4015-f148-e46cfe4b4122",
        "colab": {
          "base_uri": "https://localhost:8080/",
          "height": 236
        }
      },
      "source": [
        "sorted(aus_grain_callset.keys())\n",
        "sorted(indica_grain_callset.keys())"
      ],
      "execution_count": 0,
      "outputs": [
        {
          "output_type": "execute_result",
          "data": {
            "text/plain": [
              "['calldata/GT',\n",
              " 'samples',\n",
              " 'variants/ALT',\n",
              " 'variants/CHROM',\n",
              " 'variants/FILTER_PASS',\n",
              " 'variants/ID',\n",
              " 'variants/POS',\n",
              " 'variants/PR',\n",
              " 'variants/QUAL',\n",
              " 'variants/REF',\n",
              " 'variants/altlen',\n",
              " 'variants/is_snp',\n",
              " 'variants/numalt']"
            ]
          },
          "metadata": {
            "tags": []
          },
          "execution_count": 5
        }
      ]
    },
    {
      "cell_type": "code",
      "metadata": {
        "id": "pa6KsST5D1MC",
        "colab_type": "code",
        "outputId": "97c7d0c8-a232-49df-fc8f-53810757a84f",
        "colab": {
          "base_uri": "https://localhost:8080/",
          "height": 50
        }
      },
      "source": [
        "aus_callset['variants/ID']"
      ],
      "execution_count": 0,
      "outputs": [
        {
          "output_type": "execute_result",
          "data": {
            "text/plain": [
              "array(['26597', '53956', '67585', ..., '373223958', '373238779',\n",
              "       '373244096'], dtype=object)"
            ]
          },
          "metadata": {
            "tags": []
          },
          "execution_count": 56
        }
      ]
    },
    {
      "cell_type": "code",
      "metadata": {
        "id": "0TMaG6Gey12Q",
        "colab_type": "code",
        "colab": {}
      },
      "source": [
        "aus_samplenames = aus_callset['samples']\n",
        "indica_samplenames = indica_callset['samples']"
      ],
      "execution_count": 0,
      "outputs": []
    },
    {
      "cell_type": "code",
      "metadata": {
        "id": "dJXe7qu0y35w",
        "colab_type": "code",
        "colab": {}
      },
      "source": [
        "aus_grain_gt = allel.GenotypeArray(aus_grain_callset['calldata/GT'])\n",
        "indica_grain_gt = allel.GenotypeArray(indica_grain_callset['calldata/GT'])"
      ],
      "execution_count": 0,
      "outputs": []
    },
    {
      "cell_type": "code",
      "metadata": {
        "id": "IicovA57WX-d",
        "colab_type": "code",
        "colab": {}
      },
      "source": [
        "aus_salt_gt = allel.GenotypeArray(aus_salt_callset['calldata/GT'])\n",
        "indica_salt_gt = allel.GenotypeArray(indica_salt_callset['calldata/GT'])\n",
        "aus_time_gt = allel.GenotypeArray(aus_time_callset['calldata/GT'])\n",
        "indica_time_gt = allel.GenotypeArray(indica_time_callset['calldata/GT'])"
      ],
      "execution_count": 0,
      "outputs": []
    },
    {
      "cell_type": "code",
      "metadata": {
        "id": "YKkOq3WxqrjE",
        "colab_type": "code",
        "outputId": "21ed1448-4006-4846-f318-cfb83cc929d9",
        "colab": {
          "base_uri": "https://localhost:8080/",
          "height": 50
        }
      },
      "source": [
        "aus_grain_gt_transpose = aus_grain_gt.transpose(1, 0, 2)\n",
        "print(aus_grain_gt_transpose.shape)\n",
        "\n",
        "indica_grain_gt_transpose = indica_grain_gt.transpose(1, 0, 2)\n",
        "print(indica_grain_gt_transpose.shape)\n",
        "\n",
        "aus_grain_x = aus_grain_gt_transpose[:,:,0]\n",
        "indica_grain_x = indica_grain_gt_transpose[:,:,0]\n",
        "\n",
        "# Rewrite genotypes (0,0 to -1, 0,1 to 0, 1,1 to 1)\n",
        "for i in range(aus_grain_x.shape[0]):\n",
        "  for j in range(aus_grain_x.shape[1]):\n",
        "    if (aus_grain_gt_transpose[i,j,0] == 1 and aus_grain_gt_transpose[i,j,1] == 1):\n",
        "      aus_grain_x[i,j] = 1\n",
        "    elif (aus_grain_gt_transpose[i,j,0] == 0 and aus_grain_gt_transpose[i,j,1] == 1):\n",
        "      aus_grain_x[i,j] = 0\n",
        "    elif (aus_grain_gt_transpose[i,j,0] == 0 and aus_grain_gt_transpose[i,j,1] == 0):\n",
        "      aus_grain_x[i,j] = -1  \n",
        "\n",
        "for i in range(indica_grain_x.shape[0]):\n",
        "  for j in range(indica_grain_x.shape[1]):\n",
        "    if (indica_grain_gt_transpose[i,j,0] == 1 and indica_grain_gt_transpose[i,j,1] == 1):\n",
        "      indica_grain_x[i,j] = 1\n",
        "    elif (indica_grain_gt_transpose[i,j,0] == 0 and indica_grain_gt_transpose[i,j,1] == 1):\n",
        "      indica_grain_x[i,j] = 0\n",
        "    elif (indica_grain_gt_transpose[i,j,0] == 0 and indica_grain_gt_transpose[i,j,1] == 0):\n",
        "      indica_grain_x[i,j] = -1 "
      ],
      "execution_count": 0,
      "outputs": [
        {
          "output_type": "stream",
          "text": [
            "(151, 2110, 2)\n",
            "(1056, 6390, 2)\n"
          ],
          "name": "stdout"
        }
      ]
    },
    {
      "cell_type": "code",
      "metadata": {
        "id": "_BkYHwYQWU22",
        "colab_type": "code",
        "outputId": "4b24b85d-2c64-4a05-b5f5-a29cf431cc64",
        "colab": {
          "base_uri": "https://localhost:8080/",
          "height": 84
        }
      },
      "source": [
        "aus_salt_gt_transpose = aus_salt_gt.transpose(1, 0, 2)\n",
        "print(aus_salt_gt_transpose.shape)\n",
        "\n",
        "indica_salt_gt_transpose = indica_salt_gt.transpose(1, 0, 2)\n",
        "print(indica_salt_gt_transpose.shape)\n",
        "\n",
        "aus_salt_x = aus_salt_gt_transpose[:,:,0]\n",
        "indica_salt_x = indica_salt_gt_transpose[:,:,0]\n",
        "\n",
        "# Rewrite genotypes (0,0 to -1, 0,1 to 0, 1,1 to 1)\n",
        "for i in range(aus_salt_x.shape[0]):\n",
        "  for j in range(aus_salt_x.shape[1]):\n",
        "    if (aus_salt_gt_transpose[i,j,0] == 1 and aus_salt_gt_transpose[i,j,1] == 1):\n",
        "      aus_salt_x[i,j] = 1\n",
        "    elif (aus_salt_gt_transpose[i,j,0] == 0 and aus_salt_gt_transpose[i,j,1] == 1):\n",
        "      aus_salt_x[i,j] = 0\n",
        "    elif (aus_salt_gt_transpose[i,j,0] == 0 and aus_salt_gt_transpose[i,j,1] == 0):\n",
        "      aus_salt_x[i,j] = -1 \n",
        "    else:\n",
        "      aus_salt_x[i,j] = 0\n",
        "\n",
        "for i in range(indica_salt_x.shape[0]):\n",
        "  for j in range(indica_salt_x.shape[1]):\n",
        "    if (indica_salt_gt_transpose[i,j,0] == 1 and indica_salt_gt_transpose[i,j,1] == 1):\n",
        "      indica_salt_x[i,j] = 1\n",
        "    elif (indica_salt_gt_transpose[i,j,0] == 0 and indica_salt_gt_transpose[i,j,1] == 1):\n",
        "      indica_salt_x[i,j] = 0\n",
        "    elif (indica_salt_gt_transpose[i,j,0] == 0 and indica_salt_gt_transpose[i,j,1] == 0):\n",
        "      indica_salt_x[i,j] = -1 \n",
        "    else:\n",
        "      indica_salt_x[i,j] = 0\n",
        "\n",
        "aus_time_gt_transpose = aus_time_gt.transpose(1, 0, 2)\n",
        "print(aus_time_gt_transpose.shape)\n",
        "\n",
        "indica_time_gt_transpose = indica_time_gt.transpose(1, 0, 2)\n",
        "print(indica_time_gt_transpose.shape)\n",
        "\n",
        "aus_time_x = aus_time_gt_transpose[:,:,0]\n",
        "indica_time_x = indica_time_gt_transpose[:,:,0]\n",
        "\n",
        "# Rewrite genotypes (0,0 to -1, 0,1 to 0, 1,1 to 1)\n",
        "for i in range(aus_time_x.shape[0]):\n",
        "  for j in range(aus_time_x.shape[1]):\n",
        "    if (aus_time_gt_transpose[i,j,0] == 1 and aus_time_gt_transpose[i,j,1] == 1):\n",
        "      aus_time_x[i,j] = 1\n",
        "    elif (aus_time_gt_transpose[i,j,0] == 0 and aus_time_gt_transpose[i,j,1] == 1):\n",
        "      aus_time_x[i,j] = 0\n",
        "    elif (aus_time_gt_transpose[i,j,0] == 0 and aus_time_gt_transpose[i,j,1] == 0):\n",
        "      aus_time_x[i,j] = -1\n",
        "    else:\n",
        "      aus_time_x[i,j] = 0  \n",
        "\n",
        "for i in range(indica_time_x.shape[0]):\n",
        "  for j in range(indica_time_x.shape[1]):\n",
        "    if (indica_time_gt_transpose[i,j,0] == 1 and indica_time_gt_transpose[i,j,1] == 1):\n",
        "      indica_time_x[i,j] = 1\n",
        "    elif (indica_time_gt_transpose[i,j,0] == 0 and indica_time_gt_transpose[i,j,1] == 1):\n",
        "      indica_time_x[i,j] = 0\n",
        "    elif (indica_time_gt_transpose[i,j,0] == 0 and indica_time_gt_transpose[i,j,1] == 0):\n",
        "      indica_time_x[i,j] = -1\n",
        "    else:\n",
        "      indica_time_x[i,j] = 0 "
      ],
      "execution_count": 0,
      "outputs": [
        {
          "output_type": "stream",
          "text": [
            "(151, 1043, 2)\n",
            "(1056, 1309, 2)\n",
            "(151, 2757, 2)\n",
            "(1056, 113244, 2)\n"
          ],
          "name": "stdout"
        }
      ]
    },
    {
      "cell_type": "code",
      "metadata": {
        "id": "pEB3cSx0LIu5",
        "colab_type": "code",
        "colab": {}
      },
      "source": [
        "np.save('/content/drive/My Drive/Rice genomics project/final results/new/aus_grain_x.npy', aus_grain_x)\n",
        "np.save('/content/drive/My Drive/Rice genomics project/final results/new/indica_grain_x.npy', indica_grain_x)"
      ],
      "execution_count": 0,
      "outputs": []
    },
    {
      "cell_type": "code",
      "metadata": {
        "id": "v9YY-o77ZOGW",
        "colab_type": "code",
        "colab": {}
      },
      "source": [
        "np.save('/content/drive/My Drive/Rice genomics project/final results/new/aus_salt_x.npy', aus_salt_x)\n",
        "np.save('/content/drive/My Drive/Rice genomics project/final results/new/indica_salt_x.npy', indica_salt_x)\n",
        "np.save('/content/drive/My Drive/Rice genomics project/final results/new/aus_time_x.npy', aus_time_x)\n",
        "np.save('/content/drive/My Drive/Rice genomics project/final results/new/indica_time_x.npy', indica_time_x)"
      ],
      "execution_count": 0,
      "outputs": []
    },
    {
      "cell_type": "markdown",
      "metadata": {
        "id": "Hdpmlvcg6cmV",
        "colab_type": "text"
      },
      "source": [
        "# Read Excel files mapping output"
      ]
    },
    {
      "cell_type": "markdown",
      "metadata": {
        "id": "sTTH0C0b-sRI",
        "colab_type": "text"
      },
      "source": [
        "### Import from new Excel files"
      ]
    },
    {
      "cell_type": "code",
      "metadata": {
        "id": "a-CioaqR9yjv",
        "colab_type": "code",
        "colab": {}
      },
      "source": [
        "import numpy as np\n",
        "import pandas as pd\n",
        "\n",
        "column_names = ['NAME', 'IRIS_ID', 'ACCESSION', 'SUBPOPULATION', 'COUNTRY', 'GRAIN-WEIGHT', 'SALT-TOLERANCE', 'TIME-TO-FLOWERING']\n",
        "\n",
        "indica_grain = pd.read_excel (r'/content/drive/My Drive/Rice genomics project/final results/indica_mappingout_2.xlsx', header=None, usecols=[0, 1, 2, 3, 4, 5, 6, 7], names=column_names)\n",
        "indica_id = pd.DataFrame(indica_grain, columns= ['IRIS_ID'])\n",
        "indica_grainweight = pd.DataFrame(indica_grain, columns= ['GRAIN-WEIGHT'])\n",
        "indica_salt = pd.DataFrame(indica_grain, columns= ['SALT-TOLERANCE'])\n",
        "indica_flowertime = pd.DataFrame(indica_grain, columns= ['TIME-TO-FLOWERING'])\n",
        "\n",
        "aus_grain = pd.read_excel (r'/content/drive/My Drive/Rice genomics project/final results/aus_mappingout_2.xlsx', header=None, usecols=[0, 1, 2, 3, 4, 5, 6, 7], names=column_names)\n",
        "aus_id = pd.DataFrame(aus_grain, columns= ['IRIS_ID'])\n",
        "aus_grainweight = pd.DataFrame(aus_grain, columns= ['GRAIN-WEIGHT'])\n",
        "aus_salt = pd.DataFrame(aus_grain, columns= ['SALT-TOLERANCE'])\n",
        "aus_flowertime = pd.DataFrame(aus_grain, columns= ['TIME-TO-FLOWERING'])"
      ],
      "execution_count": 0,
      "outputs": []
    },
    {
      "cell_type": "code",
      "metadata": {
        "id": "VWii154kM5bh",
        "colab_type": "code",
        "colab": {}
      },
      "source": [
        "aus_x_grain = np.load('/content/drive/My Drive/Rice genomics project/final results/new/aus_grain_x.npy',  allow_pickle = True)\n",
        "indica_x_grain = np.load('/content/drive/My Drive/Rice genomics project/final results/new/indica_grain_x.npy',  allow_pickle = True)"
      ],
      "execution_count": 0,
      "outputs": []
    },
    {
      "cell_type": "code",
      "metadata": {
        "id": "_pCxj6C_atDj",
        "colab_type": "code",
        "colab": {}
      },
      "source": [
        "aus_x_salt = np.load('/content/drive/My Drive/Rice genomics project/final results/new/aus_salt_x.npy',  allow_pickle = True)\n",
        "indica_x_salt = np.load('/content/drive/My Drive/Rice genomics project/final results/indica_salt_x.npy',  allow_pickle = True)\n",
        "aus_x_time = np.load('/content/drive/My Drive/Rice genomics project/final results/new/aus_time_x.npy',  allow_pickle = True)\n",
        "indica_x_time = np.load('/content/drive/My Drive/Rice genomics project/final results/new/indica_time_x.npy',  allow_pickle = True)"
      ],
      "execution_count": 0,
      "outputs": []
    },
    {
      "cell_type": "markdown",
      "metadata": {
        "id": "ZmA8n-Nfg3Vb",
        "colab_type": "text"
      },
      "source": [
        "# Models"
      ]
    },
    {
      "cell_type": "markdown",
      "metadata": {
        "id": "iL7y8t5Ng7L-",
        "colab_type": "text"
      },
      "source": [
        "### Multiple linear regression"
      ]
    },
    {
      "cell_type": "code",
      "metadata": {
        "id": "-UEibk1I4J5z",
        "colab_type": "code",
        "colab": {}
      },
      "source": [
        "def linear_regression(x,y):\n",
        "  from sklearn import metrics\n",
        "  from sklearn.model_selection import cross_val_score, train_test_split\n",
        "  from sklearn.linear_model import LinearRegression\n",
        "\n",
        "  x_train, x_test, y_train, y_test = train_test_split( \\\n",
        "    x, y, test_size=0.1)\n",
        "\n",
        "  lin_reg = LinearRegression()\n",
        "\n",
        "  MSE = cross_val_score(lin_reg, x_train, y_train, scoring = 'neg_mean_squared_error', cv=10)\n",
        "\n",
        "  mean_MSE = np.mean(MSE)\n",
        "\n",
        "  lin_reg.fit(x_train, y_train)\n",
        "\n",
        "  print (mean_MSE)\n",
        "\n",
        "  y_pred = lin_reg.predict(x_test)\n",
        "\n",
        "  r2_score = metrics.r2_score(y_test, y_pred)\n",
        "  print(r2_score)\n",
        "\n",
        "\n",
        "  return mean_MSE"
      ],
      "execution_count": 0,
      "outputs": []
    },
    {
      "cell_type": "code",
      "metadata": {
        "id": "V4BC2H8QGTX9",
        "colab_type": "code",
        "colab": {
          "base_uri": "https://localhost:8080/",
          "height": 34
        },
        "outputId": "dbb57eda-4384-43ce-ff65-c167fcb35760"
      },
      "source": [
        "print(aus_x_grain.shape)"
      ],
      "execution_count": 89,
      "outputs": [
        {
          "output_type": "stream",
          "text": [
            "(151, 2110)\n"
          ],
          "name": "stdout"
        }
      ]
    },
    {
      "cell_type": "code",
      "metadata": {
        "id": "hguzyiY1s7mj",
        "colab_type": "code",
        "colab": {
          "base_uri": "https://localhost:8080/",
          "height": 50
        },
        "outputId": "6af70bbf-be0c-4072-c638-a817d88b91c8"
      },
      "source": [
        "lin_reg_MSE_ausgrain = linear_regression(aus_x_grain, aus_grainweight)"
      ],
      "execution_count": 64,
      "outputs": [
        {
          "output_type": "stream",
          "text": [
            "-0.10729325963916356\n",
            "0.5457912547764137\n"
          ],
          "name": "stdout"
        }
      ]
    },
    {
      "cell_type": "code",
      "metadata": {
        "id": "aYK8-018GWjV",
        "colab_type": "code",
        "colab": {
          "base_uri": "https://localhost:8080/",
          "height": 34
        },
        "outputId": "2d28b7a1-15db-466f-d2aa-ef519fe9f32c"
      },
      "source": [
        "print(aus_x_salt.shape)"
      ],
      "execution_count": 101,
      "outputs": [
        {
          "output_type": "stream",
          "text": [
            "(151, 1043)\n"
          ],
          "name": "stdout"
        }
      ]
    },
    {
      "cell_type": "code",
      "metadata": {
        "id": "Kjqyp9nns1a_",
        "colab_type": "code",
        "colab": {
          "base_uri": "https://localhost:8080/",
          "height": 50
        },
        "outputId": "dedeca88-5778-458e-dbc5-bdfaa1729cb3"
      },
      "source": [
        "lin_reg_MSE_aussalt = linear_regression(aus_x_salt, aus_salt)"
      ],
      "execution_count": 103,
      "outputs": [
        {
          "output_type": "stream",
          "text": [
            "-1.0432588551523676\n",
            "0.6389904638955303\n"
          ],
          "name": "stdout"
        }
      ]
    },
    {
      "cell_type": "code",
      "metadata": {
        "id": "Y7S0RgaoGYLg",
        "colab_type": "code",
        "colab": {
          "base_uri": "https://localhost:8080/",
          "height": 34
        },
        "outputId": "c6c854f9-b9b0-4c31-f9bf-d56f3cbe0d2f"
      },
      "source": [
        "print(aus_x_time.shape)"
      ],
      "execution_count": 84,
      "outputs": [
        {
          "output_type": "stream",
          "text": [
            "(151, 2757)\n"
          ],
          "name": "stdout"
        }
      ]
    },
    {
      "cell_type": "code",
      "metadata": {
        "id": "Aq9vO5bis1jU",
        "colab_type": "code",
        "colab": {
          "base_uri": "https://localhost:8080/",
          "height": 50
        },
        "outputId": "ce55b4c4-b22f-4d42-8293-740b78db1e76"
      },
      "source": [
        "lin_reg_MSE_ausflower = linear_regression(aus_x_time, aus_flowertime)"
      ],
      "execution_count": 56,
      "outputs": [
        {
          "output_type": "stream",
          "text": [
            "-66.27013374459074\n",
            "0.3161947028177965\n"
          ],
          "name": "stdout"
        }
      ]
    },
    {
      "cell_type": "code",
      "metadata": {
        "id": "KdtK5jAHGbOG",
        "colab_type": "code",
        "colab": {
          "base_uri": "https://localhost:8080/",
          "height": 34
        },
        "outputId": "dada4341-c988-48a2-b2cb-a0fce6bbda23"
      },
      "source": [
        "print(indica_x_grain.shape)"
      ],
      "execution_count": 85,
      "outputs": [
        {
          "output_type": "stream",
          "text": [
            "(1056, 6390)\n"
          ],
          "name": "stdout"
        }
      ]
    },
    {
      "cell_type": "code",
      "metadata": {
        "id": "8Sc9t4yGsxuS",
        "colab_type": "code",
        "colab": {
          "base_uri": "https://localhost:8080/",
          "height": 50
        },
        "outputId": "55db5e7f-c5fd-478e-dc98-0f63bbb14aeb"
      },
      "source": [
        "lin_reg_MSE_indicagrain = linear_regression(indica_x_grain, indica_grainweight)"
      ],
      "execution_count": 106,
      "outputs": [
        {
          "output_type": "stream",
          "text": [
            "-0.22749179625973973\n",
            "0.12123973497740215\n"
          ],
          "name": "stdout"
        }
      ]
    },
    {
      "cell_type": "code",
      "metadata": {
        "id": "H_yT6k3BGdXd",
        "colab_type": "code",
        "colab": {
          "base_uri": "https://localhost:8080/",
          "height": 34
        },
        "outputId": "cea41959-92bc-4583-f02f-64d2fd1a06c1"
      },
      "source": [
        "print(indica_x_salt.shape)"
      ],
      "execution_count": 104,
      "outputs": [
        {
          "output_type": "stream",
          "text": [
            "(1056, 25945)\n"
          ],
          "name": "stdout"
        }
      ]
    },
    {
      "cell_type": "code",
      "metadata": {
        "id": "gZ7YdtB2sx3u",
        "colab_type": "code",
        "colab": {
          "base_uri": "https://localhost:8080/",
          "height": 50
        },
        "outputId": "e59433e1-8343-4019-8f03-ffc6b60a230e"
      },
      "source": [
        "lin_reg_MSE_indicasalt = linear_regression(indica_x_salt, indica_salt)"
      ],
      "execution_count": 105,
      "outputs": [
        {
          "output_type": "stream",
          "text": [
            "-1.6359156851074157\n",
            "0.3004004941261087\n"
          ],
          "name": "stdout"
        }
      ]
    },
    {
      "cell_type": "code",
      "metadata": {
        "id": "rsQH2WDdHAsD",
        "colab_type": "code",
        "colab": {
          "base_uri": "https://localhost:8080/",
          "height": 34
        },
        "outputId": "09883187-8e07-441b-d4bb-8bf3336fabe4"
      },
      "source": [
        "print(indica_x_time.shape)"
      ],
      "execution_count": 87,
      "outputs": [
        {
          "output_type": "stream",
          "text": [
            "(1056, 113244)\n"
          ],
          "name": "stdout"
        }
      ]
    },
    {
      "cell_type": "code",
      "metadata": {
        "id": "p7np94aysyDh",
        "colab_type": "code",
        "colab": {
          "base_uri": "https://localhost:8080/",
          "height": 50
        },
        "outputId": "8d6ae7bf-e107-4bc9-9cc1-e4fc91a84726"
      },
      "source": [
        "lin_reg_MSE_indicatime = linear_regression(indica_x_time, indica_flowertime)"
      ],
      "execution_count": 88,
      "outputs": [
        {
          "output_type": "stream",
          "text": [
            "-234.6347568217421\n",
            "0.4289489418774959\n"
          ],
          "name": "stdout"
        }
      ]
    },
    {
      "cell_type": "markdown",
      "metadata": {
        "id": "fp4wKdDpg_Vj",
        "colab_type": "text"
      },
      "source": [
        "### Ridge regression"
      ]
    },
    {
      "cell_type": "code",
      "metadata": {
        "id": "SohbyX1xhEyO",
        "colab_type": "code",
        "colab": {}
      },
      "source": [
        "def ridge_regression(x,y):\n",
        "  from sklearn import metrics\n",
        "  from sklearn.model_selection import GridSearchCV, train_test_split\n",
        "  from sklearn.linear_model import Ridge\n",
        "\n",
        "  x_train, x_test, y_train, y_test = train_test_split( \\\n",
        "    x, y, test_size=0.1)\n",
        "\n",
        "  ridge = Ridge()\n",
        "\n",
        "  parameters = {'alpha': [1e-5, 1e-4, 1e-3, 1e-2, 0.1, 1, 5, 10, 15, 20]}\n",
        "\n",
        "  ridge_regressor = GridSearchCV(ridge, parameters, scoring = 'neg_mean_squared_error', cv=10)\n",
        "\n",
        "  ridge_regressor.fit(x_train,y_train)\n",
        "\n",
        "  print(ridge_regressor.best_params_)\n",
        "  print(ridge_regressor.best_score_)\n",
        "\n",
        "  y_pred = ridge_regressor.predict(x_test)\n",
        "\n",
        "  r2_score = metrics.r2_score(y_test, y_pred)\n",
        "  print(r2_score)\n",
        "\n",
        "\n",
        "  return ridge_regressor.best_params_, ridge_regressor.best_score_"
      ],
      "execution_count": 0,
      "outputs": []
    },
    {
      "cell_type": "code",
      "metadata": {
        "id": "8A5ppVe7bau0",
        "colab_type": "code",
        "outputId": "56e3f2e8-dc1c-45fd-f2a6-7cc0a91f6821",
        "colab": {
          "base_uri": "https://localhost:8080/",
          "height": 67
        }
      },
      "source": [
        "ridge_reg_bestparam_ausgrain, ridge_reg_bestscore_ausgrain = ridge_regression(aus_x_grain, aus_grainweight)"
      ],
      "execution_count": 29,
      "outputs": [
        {
          "output_type": "stream",
          "text": [
            "{'alpha': 20}\n",
            "-0.09652827229001688\n",
            "0.7643512410667891\n"
          ],
          "name": "stdout"
        }
      ]
    },
    {
      "cell_type": "code",
      "metadata": {
        "id": "oxZGdXlXss74",
        "colab_type": "code",
        "colab": {
          "base_uri": "https://localhost:8080/",
          "height": 67
        },
        "outputId": "d752618b-74bb-4deb-8b8c-c8ac2aea270b"
      },
      "source": [
        "ridge_reg_bestparam_aussalt, ridge_reg_bestscore_aussalt = ridge_regression(aus_x_salt, aus_salt)"
      ],
      "execution_count": 43,
      "outputs": [
        {
          "output_type": "stream",
          "text": [
            "{'alpha': 1e-05}\n",
            "-0.8994330386209249\n",
            "0.37886392144852876\n"
          ],
          "name": "stdout"
        }
      ]
    },
    {
      "cell_type": "code",
      "metadata": {
        "id": "kDkDJZcxsnNk",
        "colab_type": "code",
        "colab": {
          "base_uri": "https://localhost:8080/",
          "height": 67
        },
        "outputId": "b63c62ce-c0f7-4b1a-ac32-f71411f53a77"
      },
      "source": [
        "ridge_reg_bestparam_austime, ridge_reg_bestscore_austime = ridge_regression(aus_x_time, aus_flowertime)"
      ],
      "execution_count": 37,
      "outputs": [
        {
          "output_type": "stream",
          "text": [
            "{'alpha': 20}\n",
            "-64.11893020893811\n",
            "0.7574575447821522\n"
          ],
          "name": "stdout"
        }
      ]
    },
    {
      "cell_type": "code",
      "metadata": {
        "id": "hSNaoVGRsnUd",
        "colab_type": "code",
        "colab": {
          "base_uri": "https://localhost:8080/",
          "height": 67
        },
        "outputId": "26995fe6-3aa3-4154-8103-381fc31c276c"
      },
      "source": [
        "ridge_reg_bestparam_indicagrain, ridge_reg_bestscore_indicagrain = ridge_regression(indica_x_grain, indica_grainweight)"
      ],
      "execution_count": 32,
      "outputs": [
        {
          "output_type": "stream",
          "text": [
            "{'alpha': 20}\n",
            "-0.20928962670870593\n",
            "0.23757269702869044\n"
          ],
          "name": "stdout"
        }
      ]
    },
    {
      "cell_type": "code",
      "metadata": {
        "id": "3_EvgnLssnfT",
        "colab_type": "code",
        "colab": {
          "base_uri": "https://localhost:8080/",
          "height": 67
        },
        "outputId": "b60bf3d2-3799-4324-efd8-f6f6b3d30c5f"
      },
      "source": [
        "ridge_reg_bestparam_indicasalt, ridge_reg_bestscore_indicasalt = ridge_regression(indica_x_salt, indica_salt)"
      ],
      "execution_count": 49,
      "outputs": [
        {
          "output_type": "stream",
          "text": [
            "{'alpha': 20}\n",
            "-2.6548531296000535\n",
            "0.2968744409175623\n"
          ],
          "name": "stdout"
        }
      ]
    },
    {
      "cell_type": "code",
      "metadata": {
        "id": "cNyHwq1Wsnd1",
        "colab_type": "code",
        "colab": {
          "base_uri": "https://localhost:8080/",
          "height": 67
        },
        "outputId": "c2ab196e-74b8-4fe6-a71a-db9322241a1d"
      },
      "source": [
        "ridge_reg_bestparam_indicatime, ridge_reg_bestscore_indicatime = ridge_regression(indica_x_time, indica_flowertime)"
      ],
      "execution_count": 34,
      "outputs": [
        {
          "output_type": "stream",
          "text": [
            "{'alpha': 20}\n",
            "-234.7075669296314\n",
            "0.5054187132375502\n"
          ],
          "name": "stdout"
        }
      ]
    },
    {
      "cell_type": "markdown",
      "metadata": {
        "id": "H9-kZe4yhCWv",
        "colab_type": "text"
      },
      "source": [
        "### Lasso regression"
      ]
    },
    {
      "cell_type": "code",
      "metadata": {
        "id": "KPkiJkNzhEB_",
        "colab_type": "code",
        "colab": {}
      },
      "source": [
        "def lasso_regression(x,y):\n",
        "  from sklearn import metrics\n",
        "  from sklearn.linear_model import Lasso\n",
        "  from sklearn.model_selection import GridSearchCV, train_test_split\n",
        "  \n",
        "  x_train, x_test, y_train, y_test = train_test_split( \\\n",
        "    x, y, test_size=0.1)\n",
        "\n",
        "  lasso = Lasso(random_state = 0, max_iter=10e5)\n",
        "\n",
        "  parameters = {'alpha': [1e-3, 1e-2, 0.1]}\n",
        "  # parameters = {'alpha': [1e-3, 1e-2, 0.1, 1, 5, 10, 15, 20]}\n",
        "\n",
        "  lasso_regressor = GridSearchCV(lasso, parameters, scoring = 'neg_mean_squared_error', cv=10)\n",
        "\n",
        "  lasso_regressor.fit(x_train,y_train)\n",
        "\n",
        "  print(lasso_regressor.best_params_)\n",
        "  print(lasso_regressor.best_score_)\n",
        "\n",
        "  y_pred = lasso_regressor.predict(x_test)\n",
        "\n",
        "  r2_score = metrics.r2_score(y_test, y_pred)\n",
        "  print(r2_score)\n",
        "\n",
        "  return lasso_regressor.best_params_, lasso_regressor.best_score_"
      ],
      "execution_count": 0,
      "outputs": []
    },
    {
      "cell_type": "code",
      "metadata": {
        "id": "G4F3WLYvFpMa",
        "colab_type": "code",
        "outputId": "6dcaed00-2850-47ae-bc2b-b224fcd4dbc5",
        "colab": {
          "base_uri": "https://localhost:8080/",
          "height": 67
        }
      },
      "source": [
        "lasso_reg_bestparam_ausgrain, lasso_reg_bestscore_ausgrain = lasso_regression(aus_x_grain, aus_grainweight)"
      ],
      "execution_count": 122,
      "outputs": [
        {
          "output_type": "stream",
          "text": [
            "{'alpha': 0.01}\n",
            "-0.1197575638522265\n",
            "0.5612959588974393\n"
          ],
          "name": "stdout"
        }
      ]
    },
    {
      "cell_type": "code",
      "metadata": {
        "id": "zat_Mx8rpvbh",
        "colab_type": "code",
        "colab": {
          "base_uri": "https://localhost:8080/",
          "height": 67
        },
        "outputId": "f72400a5-48be-4b54-bb8b-677fe51ed000"
      },
      "source": [
        "lasso_reg_bestparam_aussalt, lasso_reg_bestscore_aussalt = lasso_regression(aus_x_salt, aus_salt)"
      ],
      "execution_count": 109,
      "outputs": [
        {
          "output_type": "stream",
          "text": [
            "{'alpha': 0.01}\n",
            "-0.9516110938738175\n",
            "0.5698637047418154\n"
          ],
          "name": "stdout"
        }
      ]
    },
    {
      "cell_type": "code",
      "metadata": {
        "id": "1ddaGVy9pxE0",
        "colab_type": "code",
        "colab": {
          "base_uri": "https://localhost:8080/",
          "height": 67
        },
        "outputId": "ba73c68e-018e-4db5-95b4-739c442aca23"
      },
      "source": [
        "lasso_reg_bestparam_austime, lasso_reg_bestscore_austime = lasso_regression(aus_x_time, aus_flowertime)"
      ],
      "execution_count": 115,
      "outputs": [
        {
          "output_type": "stream",
          "text": [
            "{'alpha': 0.001}\n",
            "-80.81372834304557\n",
            "0.578211207013346\n"
          ],
          "name": "stdout"
        }
      ]
    },
    {
      "cell_type": "code",
      "metadata": {
        "id": "ihAcyJWIpzQS",
        "colab_type": "code",
        "colab": {
          "base_uri": "https://localhost:8080/",
          "height": 67
        },
        "outputId": "262a3505-84a9-49f9-cc01-ed635686f7cf"
      },
      "source": [
        "lasso_reg_bestparam_indicagrain, lasso_reg_bestscore_indicagrain = lasso_regression(indica_x_grain, indica_grainweight)"
      ],
      "execution_count": 111,
      "outputs": [
        {
          "output_type": "stream",
          "text": [
            "{'alpha': 0.01}\n",
            "-0.1482467956835746\n",
            "0.32186969672125954\n"
          ],
          "name": "stdout"
        }
      ]
    },
    {
      "cell_type": "code",
      "metadata": {
        "id": "_ATUjN64p1P1",
        "colab_type": "code",
        "colab": {
          "base_uri": "https://localhost:8080/",
          "height": 67
        },
        "outputId": "1fed8503-a8a2-4fd7-de6d-b14534395c24"
      },
      "source": [
        "lasso_reg_bestparam_indicasalt, lasso_reg_bestscore_indicasalt = lasso_regression(indica_x_salt, indica_salt)"
      ],
      "execution_count": 112,
      "outputs": [
        {
          "output_type": "stream",
          "text": [
            "{'alpha': 0.01}\n",
            "-2.1829010973864653\n",
            "0.30771004266476054\n"
          ],
          "name": "stdout"
        }
      ]
    },
    {
      "cell_type": "code",
      "metadata": {
        "id": "r3qd42Iup3cz",
        "colab_type": "code",
        "colab": {
          "base_uri": "https://localhost:8080/",
          "height": 325
        },
        "outputId": "84a5e2bd-4a7e-4031-c2a1-91fe788026fb"
      },
      "source": [
        "lasso_reg_bestparam_indicatime, lasso_reg_bestscore_indicatime = lasso_regression(indica_x_time, indica_flowertime)"
      ],
      "execution_count": 123,
      "outputs": [
        {
          "output_type": "error",
          "ename": "KeyboardInterrupt",
          "evalue": "ignored",
          "traceback": [
            "\u001b[0;31m---------------------------------------------------------------------------\u001b[0m",
            "\u001b[0;31mKeyboardInterrupt\u001b[0m                         Traceback (most recent call last)",
            "\u001b[0;32m<ipython-input-123-03bf5e438a5d>\u001b[0m in \u001b[0;36m<module>\u001b[0;34m()\u001b[0m\n\u001b[0;32m----> 1\u001b[0;31m \u001b[0mlasso_reg_bestparam_indicatime\u001b[0m\u001b[0;34m,\u001b[0m \u001b[0mlasso_reg_bestscore_indicatime\u001b[0m \u001b[0;34m=\u001b[0m \u001b[0mlasso_regression\u001b[0m\u001b[0;34m(\u001b[0m\u001b[0mindica_x_time\u001b[0m\u001b[0;34m,\u001b[0m \u001b[0mindica_flowertime\u001b[0m\u001b[0;34m)\u001b[0m\u001b[0;34m\u001b[0m\u001b[0;34m\u001b[0m\u001b[0m\n\u001b[0m",
            "\u001b[0;32m<ipython-input-107-582e55699440>\u001b[0m in \u001b[0;36mlasso_regression\u001b[0;34m(x, y)\u001b[0m\n\u001b[1;32m     15\u001b[0m   \u001b[0mlasso_regressor\u001b[0m \u001b[0;34m=\u001b[0m \u001b[0mGridSearchCV\u001b[0m\u001b[0;34m(\u001b[0m\u001b[0mlasso\u001b[0m\u001b[0;34m,\u001b[0m \u001b[0mparameters\u001b[0m\u001b[0;34m,\u001b[0m \u001b[0mscoring\u001b[0m \u001b[0;34m=\u001b[0m \u001b[0;34m'neg_mean_squared_error'\u001b[0m\u001b[0;34m,\u001b[0m \u001b[0mcv\u001b[0m\u001b[0;34m=\u001b[0m\u001b[0;36m10\u001b[0m\u001b[0;34m)\u001b[0m\u001b[0;34m\u001b[0m\u001b[0;34m\u001b[0m\u001b[0m\n\u001b[1;32m     16\u001b[0m \u001b[0;34m\u001b[0m\u001b[0m\n\u001b[0;32m---> 17\u001b[0;31m   \u001b[0mlasso_regressor\u001b[0m\u001b[0;34m.\u001b[0m\u001b[0mfit\u001b[0m\u001b[0;34m(\u001b[0m\u001b[0mx_train\u001b[0m\u001b[0;34m,\u001b[0m\u001b[0my_train\u001b[0m\u001b[0;34m)\u001b[0m\u001b[0;34m\u001b[0m\u001b[0;34m\u001b[0m\u001b[0m\n\u001b[0m\u001b[1;32m     18\u001b[0m \u001b[0;34m\u001b[0m\u001b[0m\n\u001b[1;32m     19\u001b[0m   \u001b[0mprint\u001b[0m\u001b[0;34m(\u001b[0m\u001b[0mlasso_regressor\u001b[0m\u001b[0;34m.\u001b[0m\u001b[0mbest_params_\u001b[0m\u001b[0;34m)\u001b[0m\u001b[0;34m\u001b[0m\u001b[0;34m\u001b[0m\u001b[0m\n",
            "\u001b[0;32m/usr/local/lib/python3.6/dist-packages/sklearn/model_selection/_search.py\u001b[0m in \u001b[0;36mfit\u001b[0;34m(self, X, y, groups, **fit_params)\u001b[0m\n\u001b[1;32m    708\u001b[0m                 \u001b[0;32mreturn\u001b[0m \u001b[0mresults\u001b[0m\u001b[0;34m\u001b[0m\u001b[0;34m\u001b[0m\u001b[0m\n\u001b[1;32m    709\u001b[0m \u001b[0;34m\u001b[0m\u001b[0m\n\u001b[0;32m--> 710\u001b[0;31m             \u001b[0mself\u001b[0m\u001b[0;34m.\u001b[0m\u001b[0m_run_search\u001b[0m\u001b[0;34m(\u001b[0m\u001b[0mevaluate_candidates\u001b[0m\u001b[0;34m)\u001b[0m\u001b[0;34m\u001b[0m\u001b[0;34m\u001b[0m\u001b[0m\n\u001b[0m\u001b[1;32m    711\u001b[0m \u001b[0;34m\u001b[0m\u001b[0m\n\u001b[1;32m    712\u001b[0m         \u001b[0;31m# For multi-metric evaluation, store the best_index_, best_params_ and\u001b[0m\u001b[0;34m\u001b[0m\u001b[0;34m\u001b[0m\u001b[0;34m\u001b[0m\u001b[0m\n",
            "\u001b[0;32m/usr/local/lib/python3.6/dist-packages/sklearn/model_selection/_search.py\u001b[0m in \u001b[0;36m_run_search\u001b[0;34m(self, evaluate_candidates)\u001b[0m\n\u001b[1;32m   1149\u001b[0m     \u001b[0;32mdef\u001b[0m \u001b[0m_run_search\u001b[0m\u001b[0;34m(\u001b[0m\u001b[0mself\u001b[0m\u001b[0;34m,\u001b[0m \u001b[0mevaluate_candidates\u001b[0m\u001b[0;34m)\u001b[0m\u001b[0;34m:\u001b[0m\u001b[0;34m\u001b[0m\u001b[0;34m\u001b[0m\u001b[0m\n\u001b[1;32m   1150\u001b[0m         \u001b[0;34m\"\"\"Search all candidates in param_grid\"\"\"\u001b[0m\u001b[0;34m\u001b[0m\u001b[0;34m\u001b[0m\u001b[0m\n\u001b[0;32m-> 1151\u001b[0;31m         \u001b[0mevaluate_candidates\u001b[0m\u001b[0;34m(\u001b[0m\u001b[0mParameterGrid\u001b[0m\u001b[0;34m(\u001b[0m\u001b[0mself\u001b[0m\u001b[0;34m.\u001b[0m\u001b[0mparam_grid\u001b[0m\u001b[0;34m)\u001b[0m\u001b[0;34m)\u001b[0m\u001b[0;34m\u001b[0m\u001b[0;34m\u001b[0m\u001b[0m\n\u001b[0m\u001b[1;32m   1152\u001b[0m \u001b[0;34m\u001b[0m\u001b[0m\n\u001b[1;32m   1153\u001b[0m \u001b[0;34m\u001b[0m\u001b[0m\n",
            "\u001b[0;32m/usr/local/lib/python3.6/dist-packages/sklearn/model_selection/_search.py\u001b[0m in \u001b[0;36mevaluate_candidates\u001b[0;34m(candidate_params)\u001b[0m\n\u001b[1;32m    687\u001b[0m                                \u001b[0;32mfor\u001b[0m \u001b[0mparameters\u001b[0m\u001b[0;34m,\u001b[0m \u001b[0;34m(\u001b[0m\u001b[0mtrain\u001b[0m\u001b[0;34m,\u001b[0m \u001b[0mtest\u001b[0m\u001b[0;34m)\u001b[0m\u001b[0;34m\u001b[0m\u001b[0;34m\u001b[0m\u001b[0m\n\u001b[1;32m    688\u001b[0m                                in product(candidate_params,\n\u001b[0;32m--> 689\u001b[0;31m                                           cv.split(X, y, groups)))\n\u001b[0m\u001b[1;32m    690\u001b[0m \u001b[0;34m\u001b[0m\u001b[0m\n\u001b[1;32m    691\u001b[0m                 \u001b[0;32mif\u001b[0m \u001b[0mlen\u001b[0m\u001b[0;34m(\u001b[0m\u001b[0mout\u001b[0m\u001b[0;34m)\u001b[0m \u001b[0;34m<\u001b[0m \u001b[0;36m1\u001b[0m\u001b[0;34m:\u001b[0m\u001b[0;34m\u001b[0m\u001b[0;34m\u001b[0m\u001b[0m\n",
            "\u001b[0;32m/usr/local/lib/python3.6/dist-packages/joblib/parallel.py\u001b[0m in \u001b[0;36m__call__\u001b[0;34m(self, iterable)\u001b[0m\n\u001b[1;32m   1002\u001b[0m             \u001b[0;31m# remaining jobs.\u001b[0m\u001b[0;34m\u001b[0m\u001b[0;34m\u001b[0m\u001b[0;34m\u001b[0m\u001b[0m\n\u001b[1;32m   1003\u001b[0m             \u001b[0mself\u001b[0m\u001b[0;34m.\u001b[0m\u001b[0m_iterating\u001b[0m \u001b[0;34m=\u001b[0m \u001b[0;32mFalse\u001b[0m\u001b[0;34m\u001b[0m\u001b[0;34m\u001b[0m\u001b[0m\n\u001b[0;32m-> 1004\u001b[0;31m             \u001b[0;32mif\u001b[0m \u001b[0mself\u001b[0m\u001b[0;34m.\u001b[0m\u001b[0mdispatch_one_batch\u001b[0m\u001b[0;34m(\u001b[0m\u001b[0miterator\u001b[0m\u001b[0;34m)\u001b[0m\u001b[0;34m:\u001b[0m\u001b[0;34m\u001b[0m\u001b[0;34m\u001b[0m\u001b[0m\n\u001b[0m\u001b[1;32m   1005\u001b[0m                 \u001b[0mself\u001b[0m\u001b[0;34m.\u001b[0m\u001b[0m_iterating\u001b[0m \u001b[0;34m=\u001b[0m \u001b[0mself\u001b[0m\u001b[0;34m.\u001b[0m\u001b[0m_original_iterator\u001b[0m \u001b[0;32mis\u001b[0m \u001b[0;32mnot\u001b[0m \u001b[0;32mNone\u001b[0m\u001b[0;34m\u001b[0m\u001b[0;34m\u001b[0m\u001b[0m\n\u001b[1;32m   1006\u001b[0m \u001b[0;34m\u001b[0m\u001b[0m\n",
            "\u001b[0;32m/usr/local/lib/python3.6/dist-packages/joblib/parallel.py\u001b[0m in \u001b[0;36mdispatch_one_batch\u001b[0;34m(self, iterator)\u001b[0m\n\u001b[1;32m    833\u001b[0m                 \u001b[0;32mreturn\u001b[0m \u001b[0;32mFalse\u001b[0m\u001b[0;34m\u001b[0m\u001b[0;34m\u001b[0m\u001b[0m\n\u001b[1;32m    834\u001b[0m             \u001b[0;32melse\u001b[0m\u001b[0;34m:\u001b[0m\u001b[0;34m\u001b[0m\u001b[0;34m\u001b[0m\u001b[0m\n\u001b[0;32m--> 835\u001b[0;31m                 \u001b[0mself\u001b[0m\u001b[0;34m.\u001b[0m\u001b[0m_dispatch\u001b[0m\u001b[0;34m(\u001b[0m\u001b[0mtasks\u001b[0m\u001b[0;34m)\u001b[0m\u001b[0;34m\u001b[0m\u001b[0;34m\u001b[0m\u001b[0m\n\u001b[0m\u001b[1;32m    836\u001b[0m                 \u001b[0;32mreturn\u001b[0m \u001b[0;32mTrue\u001b[0m\u001b[0;34m\u001b[0m\u001b[0;34m\u001b[0m\u001b[0m\n\u001b[1;32m    837\u001b[0m \u001b[0;34m\u001b[0m\u001b[0m\n",
            "\u001b[0;32m/usr/local/lib/python3.6/dist-packages/joblib/parallel.py\u001b[0m in \u001b[0;36m_dispatch\u001b[0;34m(self, batch)\u001b[0m\n\u001b[1;32m    752\u001b[0m         \u001b[0;32mwith\u001b[0m \u001b[0mself\u001b[0m\u001b[0;34m.\u001b[0m\u001b[0m_lock\u001b[0m\u001b[0;34m:\u001b[0m\u001b[0;34m\u001b[0m\u001b[0;34m\u001b[0m\u001b[0m\n\u001b[1;32m    753\u001b[0m             \u001b[0mjob_idx\u001b[0m \u001b[0;34m=\u001b[0m \u001b[0mlen\u001b[0m\u001b[0;34m(\u001b[0m\u001b[0mself\u001b[0m\u001b[0;34m.\u001b[0m\u001b[0m_jobs\u001b[0m\u001b[0;34m)\u001b[0m\u001b[0;34m\u001b[0m\u001b[0;34m\u001b[0m\u001b[0m\n\u001b[0;32m--> 754\u001b[0;31m             \u001b[0mjob\u001b[0m \u001b[0;34m=\u001b[0m \u001b[0mself\u001b[0m\u001b[0;34m.\u001b[0m\u001b[0m_backend\u001b[0m\u001b[0;34m.\u001b[0m\u001b[0mapply_async\u001b[0m\u001b[0;34m(\u001b[0m\u001b[0mbatch\u001b[0m\u001b[0;34m,\u001b[0m \u001b[0mcallback\u001b[0m\u001b[0;34m=\u001b[0m\u001b[0mcb\u001b[0m\u001b[0;34m)\u001b[0m\u001b[0;34m\u001b[0m\u001b[0;34m\u001b[0m\u001b[0m\n\u001b[0m\u001b[1;32m    755\u001b[0m             \u001b[0;31m# A job can complete so quickly than its callback is\u001b[0m\u001b[0;34m\u001b[0m\u001b[0;34m\u001b[0m\u001b[0;34m\u001b[0m\u001b[0m\n\u001b[1;32m    756\u001b[0m             \u001b[0;31m# called before we get here, causing self._jobs to\u001b[0m\u001b[0;34m\u001b[0m\u001b[0;34m\u001b[0m\u001b[0;34m\u001b[0m\u001b[0m\n",
            "\u001b[0;32m/usr/local/lib/python3.6/dist-packages/joblib/_parallel_backends.py\u001b[0m in \u001b[0;36mapply_async\u001b[0;34m(self, func, callback)\u001b[0m\n\u001b[1;32m    207\u001b[0m     \u001b[0;32mdef\u001b[0m \u001b[0mapply_async\u001b[0m\u001b[0;34m(\u001b[0m\u001b[0mself\u001b[0m\u001b[0;34m,\u001b[0m \u001b[0mfunc\u001b[0m\u001b[0;34m,\u001b[0m \u001b[0mcallback\u001b[0m\u001b[0;34m=\u001b[0m\u001b[0;32mNone\u001b[0m\u001b[0;34m)\u001b[0m\u001b[0;34m:\u001b[0m\u001b[0;34m\u001b[0m\u001b[0;34m\u001b[0m\u001b[0m\n\u001b[1;32m    208\u001b[0m         \u001b[0;34m\"\"\"Schedule a func to be run\"\"\"\u001b[0m\u001b[0;34m\u001b[0m\u001b[0;34m\u001b[0m\u001b[0m\n\u001b[0;32m--> 209\u001b[0;31m         \u001b[0mresult\u001b[0m \u001b[0;34m=\u001b[0m \u001b[0mImmediateResult\u001b[0m\u001b[0;34m(\u001b[0m\u001b[0mfunc\u001b[0m\u001b[0;34m)\u001b[0m\u001b[0;34m\u001b[0m\u001b[0;34m\u001b[0m\u001b[0m\n\u001b[0m\u001b[1;32m    210\u001b[0m         \u001b[0;32mif\u001b[0m \u001b[0mcallback\u001b[0m\u001b[0;34m:\u001b[0m\u001b[0;34m\u001b[0m\u001b[0;34m\u001b[0m\u001b[0m\n\u001b[1;32m    211\u001b[0m             \u001b[0mcallback\u001b[0m\u001b[0;34m(\u001b[0m\u001b[0mresult\u001b[0m\u001b[0;34m)\u001b[0m\u001b[0;34m\u001b[0m\u001b[0;34m\u001b[0m\u001b[0m\n",
            "\u001b[0;32m/usr/local/lib/python3.6/dist-packages/joblib/_parallel_backends.py\u001b[0m in \u001b[0;36m__init__\u001b[0;34m(self, batch)\u001b[0m\n\u001b[1;32m    588\u001b[0m         \u001b[0;31m# Don't delay the application, to avoid keeping the input\u001b[0m\u001b[0;34m\u001b[0m\u001b[0;34m\u001b[0m\u001b[0;34m\u001b[0m\u001b[0m\n\u001b[1;32m    589\u001b[0m         \u001b[0;31m# arguments in memory\u001b[0m\u001b[0;34m\u001b[0m\u001b[0;34m\u001b[0m\u001b[0;34m\u001b[0m\u001b[0m\n\u001b[0;32m--> 590\u001b[0;31m         \u001b[0mself\u001b[0m\u001b[0;34m.\u001b[0m\u001b[0mresults\u001b[0m \u001b[0;34m=\u001b[0m \u001b[0mbatch\u001b[0m\u001b[0;34m(\u001b[0m\u001b[0;34m)\u001b[0m\u001b[0;34m\u001b[0m\u001b[0;34m\u001b[0m\u001b[0m\n\u001b[0m\u001b[1;32m    591\u001b[0m \u001b[0;34m\u001b[0m\u001b[0m\n\u001b[1;32m    592\u001b[0m     \u001b[0;32mdef\u001b[0m \u001b[0mget\u001b[0m\u001b[0;34m(\u001b[0m\u001b[0mself\u001b[0m\u001b[0;34m)\u001b[0m\u001b[0;34m:\u001b[0m\u001b[0;34m\u001b[0m\u001b[0;34m\u001b[0m\u001b[0m\n",
            "\u001b[0;32m/usr/local/lib/python3.6/dist-packages/joblib/parallel.py\u001b[0m in \u001b[0;36m__call__\u001b[0;34m(self)\u001b[0m\n\u001b[1;32m    254\u001b[0m         \u001b[0;32mwith\u001b[0m \u001b[0mparallel_backend\u001b[0m\u001b[0;34m(\u001b[0m\u001b[0mself\u001b[0m\u001b[0;34m.\u001b[0m\u001b[0m_backend\u001b[0m\u001b[0;34m,\u001b[0m \u001b[0mn_jobs\u001b[0m\u001b[0;34m=\u001b[0m\u001b[0mself\u001b[0m\u001b[0;34m.\u001b[0m\u001b[0m_n_jobs\u001b[0m\u001b[0;34m)\u001b[0m\u001b[0;34m:\u001b[0m\u001b[0;34m\u001b[0m\u001b[0;34m\u001b[0m\u001b[0m\n\u001b[1;32m    255\u001b[0m             return [func(*args, **kwargs)\n\u001b[0;32m--> 256\u001b[0;31m                     for func, args, kwargs in self.items]\n\u001b[0m\u001b[1;32m    257\u001b[0m \u001b[0;34m\u001b[0m\u001b[0m\n\u001b[1;32m    258\u001b[0m     \u001b[0;32mdef\u001b[0m \u001b[0m__len__\u001b[0m\u001b[0;34m(\u001b[0m\u001b[0mself\u001b[0m\u001b[0;34m)\u001b[0m\u001b[0;34m:\u001b[0m\u001b[0;34m\u001b[0m\u001b[0;34m\u001b[0m\u001b[0m\n",
            "\u001b[0;32m/usr/local/lib/python3.6/dist-packages/joblib/parallel.py\u001b[0m in \u001b[0;36m<listcomp>\u001b[0;34m(.0)\u001b[0m\n\u001b[1;32m    254\u001b[0m         \u001b[0;32mwith\u001b[0m \u001b[0mparallel_backend\u001b[0m\u001b[0;34m(\u001b[0m\u001b[0mself\u001b[0m\u001b[0;34m.\u001b[0m\u001b[0m_backend\u001b[0m\u001b[0;34m,\u001b[0m \u001b[0mn_jobs\u001b[0m\u001b[0;34m=\u001b[0m\u001b[0mself\u001b[0m\u001b[0;34m.\u001b[0m\u001b[0m_n_jobs\u001b[0m\u001b[0;34m)\u001b[0m\u001b[0;34m:\u001b[0m\u001b[0;34m\u001b[0m\u001b[0;34m\u001b[0m\u001b[0m\n\u001b[1;32m    255\u001b[0m             return [func(*args, **kwargs)\n\u001b[0;32m--> 256\u001b[0;31m                     for func, args, kwargs in self.items]\n\u001b[0m\u001b[1;32m    257\u001b[0m \u001b[0;34m\u001b[0m\u001b[0m\n\u001b[1;32m    258\u001b[0m     \u001b[0;32mdef\u001b[0m \u001b[0m__len__\u001b[0m\u001b[0;34m(\u001b[0m\u001b[0mself\u001b[0m\u001b[0;34m)\u001b[0m\u001b[0;34m:\u001b[0m\u001b[0;34m\u001b[0m\u001b[0;34m\u001b[0m\u001b[0m\n",
            "\u001b[0;32m/usr/local/lib/python3.6/dist-packages/sklearn/model_selection/_validation.py\u001b[0m in \u001b[0;36m_fit_and_score\u001b[0;34m(estimator, X, y, scorer, train, test, verbose, parameters, fit_params, return_train_score, return_parameters, return_n_test_samples, return_times, return_estimator, error_score)\u001b[0m\n\u001b[1;32m    513\u001b[0m             \u001b[0mestimator\u001b[0m\u001b[0;34m.\u001b[0m\u001b[0mfit\u001b[0m\u001b[0;34m(\u001b[0m\u001b[0mX_train\u001b[0m\u001b[0;34m,\u001b[0m \u001b[0;34m**\u001b[0m\u001b[0mfit_params\u001b[0m\u001b[0;34m)\u001b[0m\u001b[0;34m\u001b[0m\u001b[0;34m\u001b[0m\u001b[0m\n\u001b[1;32m    514\u001b[0m         \u001b[0;32melse\u001b[0m\u001b[0;34m:\u001b[0m\u001b[0;34m\u001b[0m\u001b[0;34m\u001b[0m\u001b[0m\n\u001b[0;32m--> 515\u001b[0;31m             \u001b[0mestimator\u001b[0m\u001b[0;34m.\u001b[0m\u001b[0mfit\u001b[0m\u001b[0;34m(\u001b[0m\u001b[0mX_train\u001b[0m\u001b[0;34m,\u001b[0m \u001b[0my_train\u001b[0m\u001b[0;34m,\u001b[0m \u001b[0;34m**\u001b[0m\u001b[0mfit_params\u001b[0m\u001b[0;34m)\u001b[0m\u001b[0;34m\u001b[0m\u001b[0;34m\u001b[0m\u001b[0m\n\u001b[0m\u001b[1;32m    516\u001b[0m \u001b[0;34m\u001b[0m\u001b[0m\n\u001b[1;32m    517\u001b[0m     \u001b[0;32mexcept\u001b[0m \u001b[0mException\u001b[0m \u001b[0;32mas\u001b[0m \u001b[0me\u001b[0m\u001b[0;34m:\u001b[0m\u001b[0;34m\u001b[0m\u001b[0;34m\u001b[0m\u001b[0m\n",
            "\u001b[0;32m/usr/local/lib/python3.6/dist-packages/sklearn/linear_model/_coordinate_descent.py\u001b[0m in \u001b[0;36mfit\u001b[0;34m(self, X, y, check_input)\u001b[0m\n\u001b[1;32m    749\u001b[0m                           \u001b[0mrandom_state\u001b[0m\u001b[0;34m=\u001b[0m\u001b[0mself\u001b[0m\u001b[0;34m.\u001b[0m\u001b[0mrandom_state\u001b[0m\u001b[0;34m,\u001b[0m\u001b[0;34m\u001b[0m\u001b[0;34m\u001b[0m\u001b[0m\n\u001b[1;32m    750\u001b[0m                           \u001b[0mselection\u001b[0m\u001b[0;34m=\u001b[0m\u001b[0mself\u001b[0m\u001b[0;34m.\u001b[0m\u001b[0mselection\u001b[0m\u001b[0;34m,\u001b[0m\u001b[0;34m\u001b[0m\u001b[0;34m\u001b[0m\u001b[0m\n\u001b[0;32m--> 751\u001b[0;31m                           check_input=False)\n\u001b[0m\u001b[1;32m    752\u001b[0m             \u001b[0mcoef_\u001b[0m\u001b[0;34m[\u001b[0m\u001b[0mk\u001b[0m\u001b[0;34m]\u001b[0m \u001b[0;34m=\u001b[0m \u001b[0mthis_coef\u001b[0m\u001b[0;34m[\u001b[0m\u001b[0;34m:\u001b[0m\u001b[0;34m,\u001b[0m \u001b[0;36m0\u001b[0m\u001b[0;34m]\u001b[0m\u001b[0;34m\u001b[0m\u001b[0;34m\u001b[0m\u001b[0m\n\u001b[1;32m    753\u001b[0m             \u001b[0mdual_gaps_\u001b[0m\u001b[0;34m[\u001b[0m\u001b[0mk\u001b[0m\u001b[0;34m]\u001b[0m \u001b[0;34m=\u001b[0m \u001b[0mthis_dual_gap\u001b[0m\u001b[0;34m[\u001b[0m\u001b[0;36m0\u001b[0m\u001b[0;34m]\u001b[0m\u001b[0;34m\u001b[0m\u001b[0;34m\u001b[0m\u001b[0m\n",
            "\u001b[0;32m/usr/local/lib/python3.6/dist-packages/sklearn/linear_model/_coordinate_descent.py\u001b[0m in \u001b[0;36menet_path\u001b[0;34m(X, y, l1_ratio, eps, n_alphas, alphas, precompute, Xy, copy_X, coef_init, verbose, return_n_iter, positive, check_input, **params)\u001b[0m\n\u001b[1;32m    474\u001b[0m             model = cd_fast.enet_coordinate_descent(\n\u001b[1;32m    475\u001b[0m                 \u001b[0mcoef_\u001b[0m\u001b[0;34m,\u001b[0m \u001b[0ml1_reg\u001b[0m\u001b[0;34m,\u001b[0m \u001b[0ml2_reg\u001b[0m\u001b[0;34m,\u001b[0m \u001b[0mX\u001b[0m\u001b[0;34m,\u001b[0m \u001b[0my\u001b[0m\u001b[0;34m,\u001b[0m \u001b[0mmax_iter\u001b[0m\u001b[0;34m,\u001b[0m \u001b[0mtol\u001b[0m\u001b[0;34m,\u001b[0m \u001b[0mrng\u001b[0m\u001b[0;34m,\u001b[0m \u001b[0mrandom\u001b[0m\u001b[0;34m,\u001b[0m\u001b[0;34m\u001b[0m\u001b[0;34m\u001b[0m\u001b[0m\n\u001b[0;32m--> 476\u001b[0;31m                 positive)\n\u001b[0m\u001b[1;32m    477\u001b[0m         \u001b[0;32melse\u001b[0m\u001b[0;34m:\u001b[0m\u001b[0;34m\u001b[0m\u001b[0;34m\u001b[0m\u001b[0m\n\u001b[1;32m    478\u001b[0m             raise ValueError(\"Precompute should be one of True, False, \"\n",
            "\u001b[0;31mKeyboardInterrupt\u001b[0m: "
          ]
        }
      ]
    },
    {
      "cell_type": "markdown",
      "metadata": {
        "id": "Wv-4TaPHtyIy",
        "colab_type": "text"
      },
      "source": [
        "### Support Vector Machines"
      ]
    },
    {
      "cell_type": "code",
      "metadata": {
        "id": "lv8w1Ay8t0l-",
        "colab_type": "code",
        "colab": {}
      },
      "source": [
        "def svm_test(x,y):\n",
        "  from sklearn import svm, metrics\n",
        "  from sklearn.model_selection import GridSearchCV, train_test_split\n",
        "\n",
        "  x_train, x_test, y_train, y_test = train_test_split( \\\n",
        "    x, y, test_size=0.1)\n",
        "\n",
        "  Cs = [0.001, 0.01, 0.1, 1]\n",
        "  gammas = [1e-4, 1e-3, 0.01, 0.1]\n",
        "  kernels = ['linear']\n",
        "  param_grid = {'C': Cs, 'gamma' : gammas, 'kernel' : kernels}\n",
        "  svm_model = GridSearchCV(svm.SVR(), param_grid, cv=10)\n",
        "\n",
        "  svm_model.fit(x_train, y_train.values.ravel())\n",
        "\n",
        "  print(svm_model.best_params_)\n",
        "  print(svm_model.best_score_)\n",
        "\n",
        "  y_pred = svm_model.predict(x_test)\n",
        "\n",
        "  r2_score = metrics.r2_score(y_test, y_pred)\n",
        "  print(r2_score)\n",
        "  \n",
        "  return y_test, y_pred,svm_model.best_params_, svm_model.best_score_"
      ],
      "execution_count": 0,
      "outputs": []
    },
    {
      "cell_type": "code",
      "metadata": {
        "id": "0Ak4ZrhFuX77",
        "colab_type": "code",
        "outputId": "bfa0d445-9319-4c27-cde9-d5d6343add0a",
        "colab": {
          "base_uri": "https://localhost:8080/",
          "height": 67
        }
      },
      "source": [
        "svm_y_test_ausgrain, svm_y_pred_ausgrain, svm_bestparam_ausgrain, svm_reg_bestscore_ausgrain = svm_test(aus_x_grain, aus_grainweight)"
      ],
      "execution_count": 24,
      "outputs": [
        {
          "output_type": "stream",
          "text": [
            "{'C': 0.01, 'gamma': 0.0001, 'kernel': 'linear'}\n",
            "0.4634540125484651\n",
            "0.7307698460834461\n"
          ],
          "name": "stdout"
        }
      ]
    },
    {
      "cell_type": "code",
      "metadata": {
        "id": "VHz1_ICrsZKO",
        "colab_type": "code",
        "colab": {
          "base_uri": "https://localhost:8080/",
          "height": 67
        },
        "outputId": "8a6d353c-7084-4869-9e2f-a673b772435b"
      },
      "source": [
        "svm_y_test_aussalt, svm_y_pred_aussalt, svm_bestparam_aussalt, svm_bestscore_aussalt = svm_test(aus_x_salt, aus_salt)"
      ],
      "execution_count": 23,
      "outputs": [
        {
          "output_type": "stream",
          "text": [
            "{'C': 0.1, 'gamma': 0.0001, 'kernel': 'linear'}\n",
            "0.46043240389901846\n",
            "0.6177477081136034\n"
          ],
          "name": "stdout"
        }
      ]
    },
    {
      "cell_type": "code",
      "metadata": {
        "id": "bkniT-59sZVl",
        "colab_type": "code",
        "colab": {
          "base_uri": "https://localhost:8080/",
          "height": 67
        },
        "outputId": "b962db94-cc23-4789-ea83-3b0e71bf11bb"
      },
      "source": [
        "svm_y_test_austime, svm_y_pred_austime, svm_bestparam_austime, svm_bestscore_austime = svm_test(aus_x_time, aus_flowertime)"
      ],
      "execution_count": 21,
      "outputs": [
        {
          "output_type": "stream",
          "text": [
            "{'C': 0.1, 'gamma': 0.0001, 'kernel': 'linear'}\n",
            "0.44276507816320504\n",
            "0.6742885717090017\n"
          ],
          "name": "stdout"
        }
      ]
    },
    {
      "cell_type": "code",
      "metadata": {
        "id": "8EMuMu7mxfrH",
        "colab_type": "code",
        "outputId": "45ff6961-1c3c-421a-f39e-5c7ed80bbdac",
        "colab": {
          "base_uri": "https://localhost:8080/",
          "height": 67
        }
      },
      "source": [
        "svm_y_test_indicagrain, svm_y_pred_indicagrain, svm_bestparam_indicagrain, svm_bestscore_indicagrain = svm_test(indica_x_grain, indica_grainweight)"
      ],
      "execution_count": 25,
      "outputs": [
        {
          "output_type": "stream",
          "text": [
            "{'C': 0.001, 'gamma': 0.0001, 'kernel': 'linear'}\n",
            "0.08670354066136884\n",
            "0.3447018137142599\n"
          ],
          "name": "stdout"
        }
      ]
    },
    {
      "cell_type": "code",
      "metadata": {
        "id": "kG6kY1ZgsdA6",
        "colab_type": "code",
        "colab": {}
      },
      "source": [
        "svm_y_test_indicasalt, svm_y_pred_indicasalt, svm_bestparam_indicasalt, svm_bestscore_indicasalt = svm_test(indica_x_salt, indica_salt)"
      ],
      "execution_count": 0,
      "outputs": []
    },
    {
      "cell_type": "code",
      "metadata": {
        "id": "aB5x2ku4sdWf",
        "colab_type": "code",
        "colab": {}
      },
      "source": [
        "svm_y_test_indicatime, svm_y_pred_indicatime, svm_bestparam_indicatime, svm_bestscore_indicatime = svm_test(indica_x_time, indica_flowertime)"
      ],
      "execution_count": 0,
      "outputs": []
    },
    {
      "cell_type": "markdown",
      "metadata": {
        "id": "Y8R-vtL2ms3U",
        "colab_type": "text"
      },
      "source": [
        "### Scatter plots on SVM data"
      ]
    },
    {
      "cell_type": "code",
      "metadata": {
        "id": "kgG2nuQ5Is5P",
        "colab_type": "code",
        "outputId": "5088b3f3-dd1b-40f3-8d22-b5ec94fe3106",
        "colab": {
          "base_uri": "https://localhost:8080/",
          "height": 282
        }
      },
      "source": [
        "import matplotlib.pyplot as plt\n",
        "\n",
        "plt.subplot(3, 1, 1)\n",
        "plt.scatter(svm_y_test_ausgrain, svm_y_pred_ausgrain)\n",
        "\n",
        "plt.subplot(3, 1, 2)\n",
        "plt.scatter(svm_y_test_aussalt, svm_y_pred_aussalt)\n",
        "\n",
        "plt.subplot(3, 1, 3)\n",
        "plt.scatter(svm_y_test_austime, svm_y_pred_austime)"
      ],
      "execution_count": 26,
      "outputs": [
        {
          "output_type": "execute_result",
          "data": {
            "text/plain": [
              "<matplotlib.collections.PathCollection at 0x7f6124675630>"
            ]
          },
          "metadata": {
            "tags": []
          },
          "execution_count": 26
        },
        {
          "output_type": "display_data",
          "data": {
            "image/png": "[encoded data removed]",
            "text/plain": [
              "<Figure size 432x288 with 3 Axes>"
            ]
          },
          "metadata": {
            "tags": [],
            "needs_background": "light"
          }
        }
      ]
    },
    {
      "cell_type": "code",
      "metadata": {
        "id": "Wf10jIw1q5qg",
        "colab_type": "code",
        "colab": {
          "base_uri": "https://localhost:8080/",
          "height": 315
        },
        "outputId": "0ac6a00d-60bd-47b7-cf2e-c8072f7ccf53"
      },
      "source": [
        "print(svm_y_test_indicagrain.shape)\n",
        "print(svm_y_pred_indicagrain.shape)\n",
        "\n",
        "plt.subplot(3, 1, 1)\n",
        "plt.scatter(svm_y_test_indicagrain, svm_y_pred_indicagrain)\n",
        "\n",
        "plt.subplot(3, 1, 2)\n",
        "plt.scatter(svm_y_test_indicasalt, svm_y_pred_indicasalt)\n",
        "\n",
        "plt.subplot(3, 1, 3)\n",
        "plt.scatter(svm_y_test_indicaflower, svm_y_pred_indicatime)"
      ],
      "execution_count": 27,
      "outputs": [
        {
          "output_type": "stream",
          "text": [
            "(106, 1)\n",
            "(106,)\n"
          ],
          "name": "stdout"
        },
        {
          "output_type": "execute_result",
          "data": {
            "text/plain": [
              "<matplotlib.collections.PathCollection at 0x7f61240f3fd0>"
            ]
          },
          "metadata": {
            "tags": []
          },
          "execution_count": 27
        },
        {
          "output_type": "display_data",
          "data": {
            "image/png": "[encoded data removed]",
            "text/plain": [
              "<Figure size 432x288 with 1 Axes>"
            ]
          },
          "metadata": {
            "tags": [],
            "needs_background": "light"
          }
        }
      ]
    }
  ]
}