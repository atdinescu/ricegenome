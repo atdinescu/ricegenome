{
 "cells": [
  {
   "cell_type": "code",
   "execution_count": 17,
   "metadata": {},
   "outputs": [],
   "source": [
    "import numpy as np\n",
    "import pandas as pd\n",
    "# a = np.arange(24).reshape(4, 6)\n",
    "# a[2][4] = 100\n",
    "# a[1][4] = 100\n",
    "# b = a[:, 4]\n",
    "# c = a[:, 5]\n",
    "# # a = a[a[:, 4] > a[:, 5]]\n",
    "# a = a[b > c]\n",
    "# print(a)\n",
    "excel_ori = pd.read_excel(io ='/Users/wangzx986sinacom/Downloads/indica_perm_tenthousandtimes.xlsx')\n",
    "a = excel_ori.values\n",
    "a = a[a[:, 2] < 0.0001]\n",
    "data_df = pd.DataFrame(a)\n",
    " \n",
    "data_df.columns = ['CHR','SNP','EMP1','NP']\n",
    "# data_df.index = ['a','b','c','d','e','f','g','h']\n",
    " \n",
    "writer = pd.ExcelWriter('/Users/wangzx986sinacom/Downloads/indica_perm_time_0.0001.xlsx')\n",
    "data_df.to_excel(writer, 'page_1', index=False)\n",
    "writer.save()\n"
   ]
  },
  {
   "cell_type": "code",
   "execution_count": null,
   "metadata": {},
   "outputs": [],
   "source": []
  }
 ],
 "metadata": {
  "kernelspec": {
   "display_name": "Python 3",
   "language": "python",
   "name": "python3"
  },
  "language_info": {
   "codemirror_mode": {
    "name": "ipython",
    "version": 3
   },
   "file_extension": ".py",
   "mimetype": "text/x-python",
   "name": "python",
   "nbconvert_exporter": "python",
   "pygments_lexer": "ipython3",
   "version": "3.7.7"
  }
 },
 "nbformat": 4,
 "nbformat_minor": 4
}
