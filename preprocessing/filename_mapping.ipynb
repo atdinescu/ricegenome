{
 "cells": [
  {
   "cell_type": "code",
   "execution_count": 1,
   "metadata": {},
   "outputs": [
    {
     "data": {
      "text/plain": [
       "2"
      ]
     },
     "execution_count": 1,
     "metadata": {},
     "output_type": "execute_result"
    }
   ],
   "source": [
    "1+1"
   ]
  },
  {
   "cell_type": "code",
   "execution_count": 7,
   "metadata": {},
   "outputs": [],
   "source": [
    "# -*- coding: utf-8 -*-\n",
    "\"\"\"\n",
    "Created on Thu Apr 23 11:05:29 2020\n",
    "\n",
    "\n",
    "\"\"\"\n",
    "\n",
    "\n",
    "import xlrd\n",
    "\n",
    "excelfile=xlrd.open_workbook('/Users/wangzx986sinacom/Downloads/aus phenotype.xlsx','r')\n",
    "pcafile=open('/Users/wangzx986sinacom/Downloads/aus_final_pca.eigenvec','r')\n",
    "\n",
    "table=excelfile.sheet_by_index(0)\n",
    "dic_pheo={}\n",
    "row_excel=table.nrows\n",
    "header=table.row_values(0)\n",
    "for i in range(1,row_excel):\n",
    "    line_phe=table.row_values(i)\n",
    "    samplename=line_phe[1].replace(' ','_')\n",
    "    dic_pheo[samplename]=line_phe\n",
    "    \n",
    "fo=open('/Users/wangzx986sinacom/Downloads/aus_mappingout.txt ','w')    \n",
    "for line in pcafile:\n",
    "    item=line.strip().split(' ')\n",
    "    name=item[0]\n",
    "    if name in dic_pheo.keys():\n",
    "        info_pheo=dic_pheo[name]\n",
    "        for j in info_pheo:\n",
    "            fo.write(str(j)+'\\t')\n",
    "        for k in range(2,len(item)):\n",
    "            fo.write(item[k]+'\\t')\n",
    "        fo.write('\\n')\n",
    "fo.close()\n",
    "    \n"
   ]
  }
 ],
 "metadata": {
  "kernelspec": {
   "display_name": "Python 3",
   "language": "python",
   "name": "python3"
  },
  "language_info": {
   "codemirror_mode": {
    "name": "ipython",
    "version": 3
   },
   "file_extension": ".py",
   "mimetype": "text/x-python",
   "name": "python",
   "nbconvert_exporter": "python",
   "pygments_lexer": "ipython3",
   "version": "3.7.7"
  }
 },
 "nbformat": 4,
 "nbformat_minor": 4
}
