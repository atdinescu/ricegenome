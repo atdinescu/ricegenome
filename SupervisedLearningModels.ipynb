{
  "nbformat": 4,
  "nbformat_minor": 0,
  "metadata": {
    "colab": {
      "name": "RegressionModel.ipynb",
      "provenance": [],
      "collapsed_sections": [
        "HmAHHh4fsPVA",
        "88OY_Lt86qTV",
        "GbJDXdTiwQZb"
      ],
      "toc_visible": true,
      "authorship_tag": "ABX9TyPyv7VfGUEjn6HaQceF3f1a",
      "include_colab_link": true
    },
    "kernelspec": {
      "name": "python3",
      "display_name": "Python 3"
    }
  },
  "cells": [
    {
      "cell_type": "markdown",
      "metadata": {
        "id": "view-in-github",
        "colab_type": "text"
      },
      "source": [
        "<a href=\"https://colab.research.google.com/github/atdinescu/ricegenome/blob/master/SupervisedLearningModels.ipynb\" target=\"_parent\"><img src=\"https://colab.research.google.com/assets/colab-badge.svg\" alt=\"Open In Colab\"/></a>"
      ]
    },
    {
      "cell_type": "code",
      "metadata": {
        "id": "LMoueZaI0B2c",
        "colab_type": "code",
        "outputId": "4fce7f76-162e-4611-e9f0-09fd784ec8a1",
        "colab": {
          "base_uri": "https://localhost:8080/",
          "height": 34
        }
      },
      "source": [
        "#Now, let's link to your GoogleDrive. Run this cell and follow the authorization instructions:\n",
        "#(We recommend putting a copy of the github repo in your google drive if you are using the demo \"examples\")\n",
        "\n",
        "from google.colab import drive\n",
        "drive.mount('/content/drive')"
      ],
      "execution_count": 2,
      "outputs": [
        {
          "output_type": "stream",
          "text": [
            "Drive already mounted at /content/drive; to attempt to forcibly remount, call drive.mount(\"/content/drive\", force_remount=True).\n"
          ],
          "name": "stdout"
        }
      ]
    },
    {
      "cell_type": "markdown",
      "metadata": {
        "id": "937KKJ3FsPQZ",
        "colab_type": "text"
      },
      "source": [
        ""
      ]
    },
    {
      "cell_type": "markdown",
      "metadata": {
        "id": "EfMZ5FyPykEq",
        "colab_type": "text"
      },
      "source": [
        "# Preprocessing data for models"
      ]
    },
    {
      "cell_type": "markdown",
      "metadata": {
        "id": "HmAHHh4fsPVA",
        "colab_type": "text"
      },
      "source": [
        "### Install scikit-allel"
      ]
    },
    {
      "cell_type": "code",
      "metadata": {
        "id": "ADYQLCETxj_t",
        "colab_type": "code",
        "outputId": "90c2e5a2-0812-4d63-9368-d4c23ff69ab6",
        "colab": {
          "base_uri": "https://localhost:8080/",
          "height": 273
        }
      },
      "source": [
        "!pip install scikit-allel"
      ],
      "execution_count": 0,
      "outputs": [
        {
          "output_type": "stream",
          "text": [
            "Collecting scikit-allel\n",
            "\u001b[?25l  Downloading https://files.pythonhosted.org/packages/aa/16/7c2c4ebb8376b36a7f302e111605cec3341bb0926213492b73db99bfae2f/scikit-allel-1.2.1.tar.gz (10.8MB)\n",
            "\u001b[K     |████████████████████████████████| 10.8MB 2.4MB/s \n",
            "\u001b[?25hRequirement already satisfied: cython in /usr/local/lib/python3.6/dist-packages (from scikit-allel) (0.29.17)\n",
            "Requirement already satisfied: numpy in /usr/local/lib/python3.6/dist-packages (from scikit-allel) (1.18.4)\n",
            "Requirement already satisfied: dask[array] in /usr/local/lib/python3.6/dist-packages (from scikit-allel) (2.12.0)\n",
            "Requirement already satisfied: toolz>=0.7.3; extra == \"array\" in /usr/local/lib/python3.6/dist-packages (from dask[array]->scikit-allel) (0.10.0)\n",
            "Building wheels for collected packages: scikit-allel\n",
            "  Building wheel for scikit-allel (setup.py) ... \u001b[?25l\u001b[?25hdone\n",
            "  Created wheel for scikit-allel: filename=scikit_allel-1.2.1-cp36-cp36m-linux_x86_64.whl size=4780331 sha256=2bbf1f74b76c627838dec8fd7493bafc440aa025105ec01cd12807073b12b933\n",
            "  Stored in directory: /root/.cache/pip/wheels/6e/b7/6c/dcd1dea779f069333d6acc29914831cf33df76ed448f076267\n",
            "Successfully built scikit-allel\n",
            "Installing collected packages: scikit-allel\n",
            "Successfully installed scikit-allel-1.2.1\n"
          ],
          "name": "stdout"
        }
      ]
    },
    {
      "cell_type": "code",
      "metadata": {
        "id": "bNEdAplGyq73",
        "colab_type": "code",
        "outputId": "d63c1a86-820f-4438-9992-71fe17cb3004",
        "colab": {
          "base_uri": "https://localhost:8080/",
          "height": 34
        }
      },
      "source": [
        "import numpy as np\n",
        "\n",
        "import allel\n",
        "# check which version is installed\n",
        "print(allel.__version__)"
      ],
      "execution_count": 55,
      "outputs": [
        {
          "output_type": "stream",
          "text": [
            "1.2.1\n"
          ],
          "name": "stdout"
        }
      ]
    },
    {
      "cell_type": "markdown",
      "metadata": {
        "id": "88OY_Lt86qTV",
        "colab_type": "text"
      },
      "source": [
        "### Convert vcf file to numpy array and save to drive"
      ]
    },
    {
      "cell_type": "code",
      "metadata": {
        "id": "5GqeMiz4ysNx",
        "colab_type": "code",
        "colab": {}
      },
      "source": [
        "allel.vcf_to_npz('/content/drive/My Drive/Rice genomics project/final results/new/aus_perm_grain_pvalue_0.00001.vcf', '/content/drive/My Drive/Rice genomics project/final results/new/aus_grain_0.00001.npz', fields='*', overwrite=True)\n",
        "allel.vcf_to_npz('/content/drive/My Drive/Rice genomics project/final results/new/indica_grain_0.000001.vcf', '/content/drive/My Drive/Rice genomics project/final results/new/indica_grain_0.000001.npz', fields='*', overwrite=True)"
      ],
      "execution_count": 0,
      "outputs": []
    },
    {
      "cell_type": "code",
      "metadata": {
        "id": "8d2rF0ImVu16",
        "colab_type": "code",
        "colab": {}
      },
      "source": [
        "allel.vcf_to_npz('/content/drive/My Drive/Rice genomics project/final results/new/aus_perm_salt.vcf', '/content/drive/My Drive/Rice genomics project/final results/new/aus_salt.npz', fields='*', overwrite=True)\n",
        "allel.vcf_to_npz('/content/drive/My Drive/Rice genomics project/final results/new/indica_salt.vcf', '/content/drive/My Drive/Rice genomics project/final results/new/indica_salt.npz', fields='*', overwrite=True)\n",
        "allel.vcf_to_npz('/content/drive/My Drive/Rice genomics project/final results/new/aus_perm_time.vcf', '/content/drive/My Drive/Rice genomics project/final results/new/aus_time.npz', fields='*', overwrite=True)\n",
        "allel.vcf_to_npz('/content/drive/My Drive/Rice genomics project/final results/new/indica_time.vcf', '/content/drive/My Drive/Rice genomics project/final results/new/indica_time.npz', fields='*', overwrite=True)"
      ],
      "execution_count": 0,
      "outputs": []
    },
    {
      "cell_type": "markdown",
      "metadata": {
        "id": "GbJDXdTiwQZb",
        "colab_type": "text"
      },
      "source": [
        "### Read in genotype data as numpy array and encode SNP markers as {-1,0,1}"
      ]
    },
    {
      "cell_type": "code",
      "metadata": {
        "id": "ITh3fPfDywos",
        "colab_type": "code",
        "colab": {}
      },
      "source": [
        "import numpy as np\n",
        "aus_grain_callset = np.load('/content/drive/My Drive/Rice genomics project/final results/new/aus_grain_0.00001.npz',  allow_pickle = True)\n",
        "indica_grain_callset = np.load('/content/drive/My Drive/Rice genomics project/final results/new/indica_grain_0.000001.npz',  allow_pickle = True)"
      ],
      "execution_count": 0,
      "outputs": []
    },
    {
      "cell_type": "code",
      "metadata": {
        "id": "61KFcQLAWAwP",
        "colab_type": "code",
        "colab": {}
      },
      "source": [
        "aus_salt_callset = np.load('/content/drive/My Drive/Rice genomics project/final results/new/aus_salt.npz',  allow_pickle = True)\n",
        "indica_salt_callset = np.load('/content/drive/My Drive/Rice genomics project/final results/new/indica_salt.npz',  allow_pickle = True)\n",
        "\n",
        "aus_time_callset = np.load('/content/drive/My Drive/Rice genomics project/final results/new/aus_time.npz',  allow_pickle = True)\n",
        "indica_time_callset = np.load('/content/drive/My Drive/Rice genomics project/final results/new/indica_time.npz',  allow_pickle = True)"
      ],
      "execution_count": 0,
      "outputs": []
    },
    {
      "cell_type": "code",
      "metadata": {
        "id": "2FzEefqoyyXY",
        "colab_type": "code",
        "outputId": "ea1206a6-22fb-4015-f148-e46cfe4b4122",
        "colab": {
          "base_uri": "https://localhost:8080/",
          "height": 236
        }
      },
      "source": [
        "sorted(aus_grain_callset.keys())\n",
        "sorted(indica_grain_callset.keys())"
      ],
      "execution_count": 0,
      "outputs": [
        {
          "output_type": "execute_result",
          "data": {
            "text/plain": [
              "['calldata/GT',\n",
              " 'samples',\n",
              " 'variants/ALT',\n",
              " 'variants/CHROM',\n",
              " 'variants/FILTER_PASS',\n",
              " 'variants/ID',\n",
              " 'variants/POS',\n",
              " 'variants/PR',\n",
              " 'variants/QUAL',\n",
              " 'variants/REF',\n",
              " 'variants/altlen',\n",
              " 'variants/is_snp',\n",
              " 'variants/numalt']"
            ]
          },
          "metadata": {
            "tags": []
          },
          "execution_count": 5
        }
      ]
    },
    {
      "cell_type": "code",
      "metadata": {
        "id": "pa6KsST5D1MC",
        "colab_type": "code",
        "outputId": "97c7d0c8-a232-49df-fc8f-53810757a84f",
        "colab": {
          "base_uri": "https://localhost:8080/",
          "height": 50
        }
      },
      "source": [
        "aus_callset['variants/ID']"
      ],
      "execution_count": 0,
      "outputs": [
        {
          "output_type": "execute_result",
          "data": {
            "text/plain": [
              "array(['26597', '53956', '67585', ..., '373223958', '373238779',\n",
              "       '373244096'], dtype=object)"
            ]
          },
          "metadata": {
            "tags": []
          },
          "execution_count": 56
        }
      ]
    },
    {
      "cell_type": "code",
      "metadata": {
        "id": "0TMaG6Gey12Q",
        "colab_type": "code",
        "outputId": "e20951da-084b-4b0d-fc30-c2c0d12cf9cf",
        "colab": {
          "base_uri": "https://localhost:8080/",
          "height": 180
        }
      },
      "source": [
        "aus_samplenames = aus_callset['samples']\n",
        "indica_samplenames = indica_callset['samples']"
      ],
      "execution_count": 0,
      "outputs": [
        {
          "output_type": "error",
          "ename": "NameError",
          "evalue": "ignored",
          "traceback": [
            "\u001b[0;31m---------------------------------------------------------------------------\u001b[0m",
            "\u001b[0;31mNameError\u001b[0m                                 Traceback (most recent call last)",
            "\u001b[0;32m<ipython-input-13-ec2c7bf2242c>\u001b[0m in \u001b[0;36m<module>\u001b[0;34m()\u001b[0m\n\u001b[0;32m----> 1\u001b[0;31m \u001b[0maus_samplenames\u001b[0m \u001b[0;34m=\u001b[0m \u001b[0maus_callset\u001b[0m\u001b[0;34m[\u001b[0m\u001b[0;34m'samples'\u001b[0m\u001b[0;34m]\u001b[0m\u001b[0;34m\u001b[0m\u001b[0;34m\u001b[0m\u001b[0m\n\u001b[0m\u001b[1;32m      2\u001b[0m \u001b[0mindica_samplenames\u001b[0m \u001b[0;34m=\u001b[0m \u001b[0mindica_callset\u001b[0m\u001b[0;34m[\u001b[0m\u001b[0;34m'samples'\u001b[0m\u001b[0;34m]\u001b[0m\u001b[0;34m\u001b[0m\u001b[0;34m\u001b[0m\u001b[0m\n",
            "\u001b[0;31mNameError\u001b[0m: name 'aus_callset' is not defined"
          ]
        }
      ]
    },
    {
      "cell_type": "code",
      "metadata": {
        "id": "dJXe7qu0y35w",
        "colab_type": "code",
        "colab": {}
      },
      "source": [
        "aus_grain_gt = allel.GenotypeArray(aus_grain_callset['calldata/GT'])\n",
        "indica_grain_gt = allel.GenotypeArray(indica_grain_callset['calldata/GT'])"
      ],
      "execution_count": 0,
      "outputs": []
    },
    {
      "cell_type": "code",
      "metadata": {
        "id": "IicovA57WX-d",
        "colab_type": "code",
        "colab": {}
      },
      "source": [
        "aus_salt_gt = allel.GenotypeArray(aus_salt_callset['calldata/GT'])\n",
        "indica_salt_gt = allel.GenotypeArray(indica_salt_callset['calldata/GT'])\n",
        "aus_time_gt = allel.GenotypeArray(aus_time_callset['calldata/GT'])\n",
        "indica_time_gt = allel.GenotypeArray(indica_time_callset['calldata/GT'])"
      ],
      "execution_count": 0,
      "outputs": []
    },
    {
      "cell_type": "code",
      "metadata": {
        "id": "YKkOq3WxqrjE",
        "colab_type": "code",
        "outputId": "21ed1448-4006-4846-f318-cfb83cc929d9",
        "colab": {
          "base_uri": "https://localhost:8080/",
          "height": 50
        }
      },
      "source": [
        "aus_grain_gt_transpose = aus_grain_gt.transpose(1, 0, 2)\n",
        "print(aus_grain_gt_transpose.shape)\n",
        "\n",
        "indica_grain_gt_transpose = indica_grain_gt.transpose(1, 0, 2)\n",
        "print(indica_grain_gt_transpose.shape)\n",
        "\n",
        "aus_grain_x = aus_grain_gt_transpose[:,:,0]\n",
        "indica_grain_x = indica_grain_gt_transpose[:,:,0]\n",
        "\n",
        "# Rewrite genotypes (0,0 to -1, 0,1 to 0, 1,1 to 1)\n",
        "for i in range(aus_grain_x.shape[0]):\n",
        "  for j in range(aus_grain_x.shape[1]):\n",
        "    if (aus_grain_gt_transpose[i,j,0] == 1 and aus_grain_gt_transpose[i,j,1] == 1):\n",
        "      aus_grain_x[i,j] = 1\n",
        "    elif (aus_grain_gt_transpose[i,j,0] == 0 and aus_grain_gt_transpose[i,j,1] == 1):\n",
        "      aus_grain_x[i,j] = 0\n",
        "    elif (aus_grain_gt_transpose[i,j,0] == 0 and aus_grain_gt_transpose[i,j,1] == 0):\n",
        "      aus_grain_x[i,j] = -1  \n",
        "\n",
        "for i in range(indica_grain_x.shape[0]):\n",
        "  for j in range(indica_grain_x.shape[1]):\n",
        "    if (indica_grain_gt_transpose[i,j,0] == 1 and indica_grain_gt_transpose[i,j,1] == 1):\n",
        "      indica_grain_x[i,j] = 1\n",
        "    elif (indica_grain_gt_transpose[i,j,0] == 0 and indica_grain_gt_transpose[i,j,1] == 1):\n",
        "      indica_grain_x[i,j] = 0\n",
        "    elif (indica_grain_gt_transpose[i,j,0] == 0 and indica_grain_gt_transpose[i,j,1] == 0):\n",
        "      indica_grain_x[i,j] = -1 "
      ],
      "execution_count": 0,
      "outputs": [
        {
          "output_type": "stream",
          "text": [
            "(151, 2110, 2)\n",
            "(1056, 6390, 2)\n"
          ],
          "name": "stdout"
        }
      ]
    },
    {
      "cell_type": "code",
      "metadata": {
        "id": "_BkYHwYQWU22",
        "colab_type": "code",
        "outputId": "4b24b85d-2c64-4a05-b5f5-a29cf431cc64",
        "colab": {
          "base_uri": "https://localhost:8080/",
          "height": 84
        }
      },
      "source": [
        "aus_salt_gt_transpose = aus_salt_gt.transpose(1, 0, 2)\n",
        "print(aus_salt_gt_transpose.shape)\n",
        "\n",
        "indica_salt_gt_transpose = indica_salt_gt.transpose(1, 0, 2)\n",
        "print(indica_salt_gt_transpose.shape)\n",
        "\n",
        "aus_salt_x = aus_salt_gt_transpose[:,:,0]\n",
        "indica_salt_x = indica_salt_gt_transpose[:,:,0]\n",
        "\n",
        "# Rewrite genotypes (0,0 to -1, 0,1 to 0, 1,1 to 1)\n",
        "for i in range(aus_salt_x.shape[0]):\n",
        "  for j in range(aus_salt_x.shape[1]):\n",
        "    if (aus_salt_gt_transpose[i,j,0] == 1 and aus_salt_gt_transpose[i,j,1] == 1):\n",
        "      aus_salt_x[i,j] = 1\n",
        "    elif (aus_salt_gt_transpose[i,j,0] == 0 and aus_salt_gt_transpose[i,j,1] == 1):\n",
        "      aus_salt_x[i,j] = 0\n",
        "    elif (aus_salt_gt_transpose[i,j,0] == 0 and aus_salt_gt_transpose[i,j,1] == 0):\n",
        "      aus_salt_x[i,j] = -1 \n",
        "    else:\n",
        "      aus_salt_x[i,j] = 0\n",
        "\n",
        "for i in range(indica_salt_x.shape[0]):\n",
        "  for j in range(indica_salt_x.shape[1]):\n",
        "    if (indica_salt_gt_transpose[i,j,0] == 1 and indica_salt_gt_transpose[i,j,1] == 1):\n",
        "      indica_salt_x[i,j] = 1\n",
        "    elif (indica_salt_gt_transpose[i,j,0] == 0 and indica_salt_gt_transpose[i,j,1] == 1):\n",
        "      indica_salt_x[i,j] = 0\n",
        "    elif (indica_salt_gt_transpose[i,j,0] == 0 and indica_salt_gt_transpose[i,j,1] == 0):\n",
        "      indica_salt_x[i,j] = -1 \n",
        "    else:\n",
        "      indica_salt_x[i,j] = 0\n",
        "\n",
        "aus_time_gt_transpose = aus_time_gt.transpose(1, 0, 2)\n",
        "print(aus_time_gt_transpose.shape)\n",
        "\n",
        "indica_time_gt_transpose = indica_time_gt.transpose(1, 0, 2)\n",
        "print(indica_time_gt_transpose.shape)\n",
        "\n",
        "aus_time_x = aus_time_gt_transpose[:,:,0]\n",
        "indica_time_x = indica_time_gt_transpose[:,:,0]\n",
        "\n",
        "# Rewrite genotypes (0,0 to -1, 0,1 to 0, 1,1 to 1)\n",
        "for i in range(aus_time_x.shape[0]):\n",
        "  for j in range(aus_time_x.shape[1]):\n",
        "    if (aus_time_gt_transpose[i,j,0] == 1 and aus_time_gt_transpose[i,j,1] == 1):\n",
        "      aus_time_x[i,j] = 1\n",
        "    elif (aus_time_gt_transpose[i,j,0] == 0 and aus_time_gt_transpose[i,j,1] == 1):\n",
        "      aus_time_x[i,j] = 0\n",
        "    elif (aus_time_gt_transpose[i,j,0] == 0 and aus_time_gt_transpose[i,j,1] == 0):\n",
        "      aus_time_x[i,j] = -1\n",
        "    else:\n",
        "      aus_time_x[i,j] = 0  \n",
        "\n",
        "for i in range(indica_time_x.shape[0]):\n",
        "  for j in range(indica_time_x.shape[1]):\n",
        "    if (indica_time_gt_transpose[i,j,0] == 1 and indica_time_gt_transpose[i,j,1] == 1):\n",
        "      indica_time_x[i,j] = 1\n",
        "    elif (indica_time_gt_transpose[i,j,0] == 0 and indica_time_gt_transpose[i,j,1] == 1):\n",
        "      indica_time_x[i,j] = 0\n",
        "    elif (indica_time_gt_transpose[i,j,0] == 0 and indica_time_gt_transpose[i,j,1] == 0):\n",
        "      indica_time_x[i,j] = -1\n",
        "    else:\n",
        "      indica_time_x[i,j] = 0 "
      ],
      "execution_count": 0,
      "outputs": [
        {
          "output_type": "stream",
          "text": [
            "(151, 1043, 2)\n",
            "(1056, 1309, 2)\n",
            "(151, 2757, 2)\n",
            "(1056, 113244, 2)\n"
          ],
          "name": "stdout"
        }
      ]
    },
    {
      "cell_type": "code",
      "metadata": {
        "id": "pEB3cSx0LIu5",
        "colab_type": "code",
        "colab": {}
      },
      "source": [
        "np.save('/content/drive/My Drive/Rice genomics project/final results/new/aus_grain_x.npy', aus_grain_x)\n",
        "np.save('/content/drive/My Drive/Rice genomics project/final results/new/indica_grain_x.npy', indica_grain_x)"
      ],
      "execution_count": 0,
      "outputs": []
    },
    {
      "cell_type": "code",
      "metadata": {
        "id": "v9YY-o77ZOGW",
        "colab_type": "code",
        "colab": {}
      },
      "source": [
        "np.save('/content/drive/My Drive/Rice genomics project/final results/new/aus_salt_x.npy', aus_salt_x)\n",
        "np.save('/content/drive/My Drive/Rice genomics project/final results/new/indica_salt_x.npy', indica_salt_x)\n",
        "np.save('/content/drive/My Drive/Rice genomics project/final results/new/aus_time_x.npy', aus_time_x)\n",
        "np.save('/content/drive/My Drive/Rice genomics project/final results/new/indica_time_x.npy', indica_time_x)"
      ],
      "execution_count": 0,
      "outputs": []
    },
    {
      "cell_type": "markdown",
      "metadata": {
        "id": "Hdpmlvcg6cmV",
        "colab_type": "text"
      },
      "source": [
        "# Read Excel files mapping output"
      ]
    },
    {
      "cell_type": "code",
      "metadata": {
        "id": "ni0DSccN6bMI",
        "colab_type": "code",
        "outputId": "76ffbe7e-342e-4b13-ef53-676885974d60",
        "colab": {
          "base_uri": "https://localhost:8080/",
          "height": 34
        }
      },
      "source": [
        "!pip install xlrd"
      ],
      "execution_count": 3,
      "outputs": [
        {
          "output_type": "stream",
          "text": [
            "Requirement already satisfied: xlrd in /usr/local/lib/python3.6/dist-packages (1.1.0)\n"
          ],
          "name": "stdout"
        }
      ]
    },
    {
      "cell_type": "markdown",
      "metadata": {
        "id": "sTTH0C0b-sRI",
        "colab_type": "text"
      },
      "source": [
        "### Import from new Excel files"
      ]
    },
    {
      "cell_type": "code",
      "metadata": {
        "id": "a-CioaqR9yjv",
        "colab_type": "code",
        "colab": {}
      },
      "source": [
        "import numpy as np\n",
        "import pandas as pd\n",
        "\n",
        "column_names = ['NAME', 'IRIS_ID', 'ACCESSION', 'SUBPOPULATION', 'COUNTRY', 'GRAIN-WEIGHT', 'SALT-TOLERANCE', 'TIME-TO-FLOWERING']\n",
        "\n",
        "indica_grain = pd.read_excel (r'/content/drive/My Drive/Rice genomics project/final results/indica_mappingout_2.xlsx', header=None, usecols=[0, 1, 2, 3, 4, 5, 6, 7], names=column_names)\n",
        "indica_id = pd.DataFrame(indica_grain, columns= ['IRIS_ID'])\n",
        "indica_grainweight = pd.DataFrame(indica_grain, columns= ['GRAIN-WEIGHT'])\n",
        "indica_salt = pd.DataFrame(indica_grain, columns= ['SALT-TOLERANCE'])\n",
        "indica_flowertime = pd.DataFrame(indica_grain, columns= ['TIME-TO-FLOWERING'])\n",
        "\n",
        "aus_grain = pd.read_excel (r'/content/drive/My Drive/Rice genomics project/final results/aus_mappingout_2.xlsx', header=None, usecols=[0, 1, 2, 3, 4, 5, 6, 7], names=column_names)\n",
        "aus_id = pd.DataFrame(aus_grain, columns= ['IRIS_ID'])\n",
        "aus_grainweight = pd.DataFrame(aus_grain, columns= ['GRAIN-WEIGHT'])\n",
        "aus_salt = pd.DataFrame(aus_grain, columns= ['SALT-TOLERANCE'])\n",
        "aus_flowertime = pd.DataFrame(aus_grain, columns= ['TIME-TO-FLOWERING'])"
      ],
      "execution_count": 0,
      "outputs": []
    },
    {
      "cell_type": "code",
      "metadata": {
        "id": "VWii154kM5bh",
        "colab_type": "code",
        "colab": {}
      },
      "source": [
        "aus_x_grain = np.load('/content/drive/My Drive/Rice genomics project/final results/new/aus_grain_x.npy',  allow_pickle = True)\n",
        "indica_x_grain = np.load('/content/drive/My Drive/Rice genomics project/final results/new/indica_grain_x.npy',  allow_pickle = True)"
      ],
      "execution_count": 0,
      "outputs": []
    },
    {
      "cell_type": "code",
      "metadata": {
        "id": "_pCxj6C_atDj",
        "colab_type": "code",
        "colab": {}
      },
      "source": [
        "aus_x_salt = np.load('/content/drive/My Drive/Rice genomics project/final results/new/aus_salt_x.npy',  allow_pickle = True)\n",
        "indica_x_salt = np.load('/content/drive/My Drive/Rice genomics project/final results/new/indica_salt_x.npy',  allow_pickle = True)\n",
        "aus_x_time = np.load('/content/drive/My Drive/Rice genomics project/final results/new/aus_time_x.npy',  allow_pickle = True)\n",
        "indica_x_time = np.load('/content/drive/My Drive/Rice genomics project/final results/new/indica_time_x.npy',  allow_pickle = True)"
      ],
      "execution_count": 0,
      "outputs": []
    },
    {
      "cell_type": "markdown",
      "metadata": {
        "id": "ZmA8n-Nfg3Vb",
        "colab_type": "text"
      },
      "source": [
        "# Models"
      ]
    },
    {
      "cell_type": "markdown",
      "metadata": {
        "id": "iL7y8t5Ng7L-",
        "colab_type": "text"
      },
      "source": [
        "### Multiple linear regression"
      ]
    },
    {
      "cell_type": "code",
      "metadata": {
        "id": "-UEibk1I4J5z",
        "colab_type": "code",
        "colab": {}
      },
      "source": [
        "def linear_regression(x,y):\n",
        "  from sklearn import metrics\n",
        "  from sklearn.model_selection import cross_val_score, train_test_split\n",
        "  from sklearn.linear_model import LinearRegression\n",
        "\n",
        "  x_train, x_test, y_train, y_test = train_test_split( \\\n",
        "    x, y, test_size=0.1)\n",
        "\n",
        "  lin_reg = LinearRegression()\n",
        "\n",
        "  MSE = cross_val_score(lin_reg, x_train, y_train, scoring = 'neg_mean_squared_error', cv=10)\n",
        "\n",
        "  mean_MSE = np.mean(MSE)\n",
        "\n",
        "  lin_reg.fit(x_train, y_train)\n",
        "\n",
        "  print (mean_MSE)\n",
        "\n",
        "  y_pred = lin_reg.predict(x_test)\n",
        "\n",
        "  r2_score = metrics.r2_score(y_test, y_pred)\n",
        "  print(r2_score)\n",
        "\n",
        "\n",
        "  return mean_MSE"
      ],
      "execution_count": 0,
      "outputs": []
    },
    {
      "cell_type": "code",
      "metadata": {
        "id": "j0shG6dqg5_1",
        "colab_type": "code",
        "outputId": "dd68ac20-fbfe-422f-a3cd-d88f721541db",
        "colab": {
          "base_uri": "https://localhost:8080/",
          "height": 50
        }
      },
      "source": [
        "import matplotlib.pyplot as plt\n",
        "\n",
        "# Run linear regression on aus phenotypes\n",
        "#lin_reg_MSE_ausgrain = linear_regression(aus_x_grain, aus_grainweight)\n",
        "#lin_reg_MSE_aussalt = linear_regression(aus_x_salt, aus_salt)\n",
        "#lin_reg_MSE_ausflower = linear_regression(aus_x_time, aus_flowertime)\n",
        "\n",
        "# Run linear regression on indica phenotypes\n",
        "lin_reg_MSE_indicagrain = linear_regression(indica_x_grain, indica_grainweight)\n",
        "#lin_reg_MSE_indicasalt = linear_regression(indica_x_salt, indica_salt)\n",
        "#lin_reg_MSE_indicatime = linear_regression(indica_x_time, indica_flowertime)"
      ],
      "execution_count": 67,
      "outputs": [
        {
          "output_type": "stream",
          "text": [
            "-0.20710821316859174\n",
            "0.14762132735038191\n"
          ],
          "name": "stdout"
        }
      ]
    },
    {
      "cell_type": "markdown",
      "metadata": {
        "id": "XCNg-vYCm1XH",
        "colab_type": "text"
      },
      "source": [
        "### Scatter plots for train/test data on linear regression (old)"
      ]
    },
    {
      "cell_type": "markdown",
      "metadata": {
        "id": "fp4wKdDpg_Vj",
        "colab_type": "text"
      },
      "source": [
        "### Ridge regression"
      ]
    },
    {
      "cell_type": "code",
      "metadata": {
        "id": "SohbyX1xhEyO",
        "colab_type": "code",
        "colab": {}
      },
      "source": [
        "def ridge_regression(x,y):\n",
        "  from sklearn import metrics\n",
        "  from sklearn.model_selection import cross_val_score\n",
        "  from sklearn.model_selection import GridSearchCV, train_test_split\n",
        "  from sklearn.linear_model import Ridge\n",
        "\n",
        "  x_train, x_test, y_train, y_test = train_test_split( \\\n",
        "    x, y, test_size=0.1)\n",
        "\n",
        "  ridge = Ridge()\n",
        "\n",
        "  parameters = {'alpha': [1e-5, 1e-4, 1e-3, 1e-2, 0.1, 1, 5, 10, 15, 20]}\n",
        "\n",
        "  ridge_regressor = GridSearchCV(ridge, parameters, scoring = 'neg_mean_squared_error', cv=10)\n",
        "\n",
        "  ridge_regressor.fit(x_train,y_train)\n",
        "\n",
        "  print(ridge_regressor.best_params_)\n",
        "  print(ridge_regressor.best_score_)\n",
        "\n",
        "  y_pred = ridge_regressor.predict(x_test)\n",
        "\n",
        "  r2_score = metrics.r2_score(y_test, y_pred)\n",
        "  print(r2_score)\n",
        "\n",
        "\n",
        "  return ridge_regressor.best_params_, ridge_regressor.best_score_\n",
        "\n"
      ],
      "execution_count": 0,
      "outputs": []
    },
    {
      "cell_type": "code",
      "metadata": {
        "id": "8A5ppVe7bau0",
        "colab_type": "code",
        "outputId": "b01ce047-fafa-44f1-8d94-e46cef30ed9c",
        "colab": {
          "base_uri": "https://localhost:8080/",
          "height": 118
        }
      },
      "source": [
        "ridge_reg_bestparam_ausgrain, ridge_reg_bestscore_ausgrain = ridge_regression(aus_x_grain, aus_grainweight)\n",
        "#ridge_reg_bestparam_aussalt, ridge_reg_bestscore_aussalt = ridge_regression(aus_x_salt, aus_salt)\n",
        "#ridge_reg_bestparam_austime, ridge_reg_bestscore_austime = ridge_regression(aus_x_time, aus_flowertime)\n",
        "\n",
        "ridge_reg_bestparam_indicagrain, ridge_reg_bestscore_indicagrain = ridge_regression(indica_x_grain, indica_grainweight)\n",
        "#ridge_reg_bestparam_indicasalt, ridge_reg_bestscore_indicasalt = ridge_regression(indica_x_salt, indica_salt)\n",
        "#ridge_reg_bestparam_indicatime, ridge_reg_bestscore_indicatime = ridge_regression(indica_x_time, indica_flowertime)"
      ],
      "execution_count": 73,
      "outputs": [
        {
          "output_type": "stream",
          "text": [
            "{'alpha': 20}\n",
            "-0.0837423414362596\n",
            "0.495535702084831\n",
            "{'alpha': 20}\n",
            "-0.20229626985523766\n",
            "-0.12543688216733218\n"
          ],
          "name": "stdout"
        }
      ]
    },
    {
      "cell_type": "markdown",
      "metadata": {
        "id": "H9-kZe4yhCWv",
        "colab_type": "text"
      },
      "source": [
        "### Lasso regression"
      ]
    },
    {
      "cell_type": "code",
      "metadata": {
        "id": "KPkiJkNzhEB_",
        "colab_type": "code",
        "colab": {}
      },
      "source": [
        "def lasso_regression(x,y):\n",
        "  from sklearn import metrics\n",
        "  from sklearn.model_selection import cross_val_score # train_test_split\n",
        "  from sklearn.linear_model import lasso_path\n",
        "  from sklearn.linear_model import Lasso, LassoCV\n",
        "  from sklearn.model_selection import GridSearchCV, train_test_split\n",
        "  \n",
        "  x_train, x_test, y_train, y_test = train_test_split( \\\n",
        "    x, y, test_size=0.1)\n",
        "\n",
        "  lasso = Lasso(random_state = 0, max_iter=10e5)\n",
        "\n",
        "  parameters = {'alpha': [1e-3, 1e-2, 0.1]}\n",
        "  # parameters = {'alpha': [1e-3, 1e-2, 0.1, 1, 5, 10, 15, 20]}\n",
        "\n",
        "  lasso_regressor = GridSearchCV(lasso, parameters, scoring = 'neg_mean_squared_error', cv=10)\n",
        "\n",
        "  lasso_regressor.fit(x_train,y_train)\n",
        "\n",
        "  print(lasso_regressor.best_params_)\n",
        "  print(lasso_regressor.best_score_)\n",
        "\n",
        "  y_pred = lasso_regressor.predict(x_test)\n",
        "\n",
        "  r2_score = metrics.r2_score(y_test, y_pred)\n",
        "  print(r2_score)\n",
        "\n",
        "  return lasso_regressor.best_params_, lasso_regressor.best_score_"
      ],
      "execution_count": 0,
      "outputs": []
    },
    {
      "cell_type": "code",
      "metadata": {
        "id": "G4F3WLYvFpMa",
        "colab_type": "code",
        "outputId": "e043d2f0-e8a3-47ab-9102-7632a0b1a5fc",
        "colab": {
          "base_uri": "https://localhost:8080/",
          "height": 118
        }
      },
      "source": [
        "#lasso_reg_bestparam_ausgrain, lasso_reg_bestscore_ausgrain = lasso_regression(aus_x_grain, aus_grainweight)\n",
        "lasso_reg_bestparam_aussalt, lasso_reg_bestscore_aussalt = lasso_regression(aus_x_salt, aus_salt)\n",
        "lasso_reg_bestparam_austime, lasso_reg_bestscore_austime = lasso_regression(aus_x_time, aus_flowertime)\n",
        "\n",
        "#lasso_reg_bestparam_indicagrain, lasso_reg_bestscore_indicagrain = lasso_regression(indica_x_grain, indica_grainweight)\n",
        "#lasso_reg_bestparam_indicasalt, lasso_reg_bestscore_indicasalt = lasso_regression(indica_x_salt, indica_salt)\n",
        "lasso_reg_bestparam_indicatime, lasso_reg_bestscore_indicatime = lasso_regression(indica_x_time, indica_flowertime)"
      ],
      "execution_count": 0,
      "outputs": [
        {
          "output_type": "stream",
          "text": [
            "{'alpha': 0.01}\n",
            "-0.7328233286592563\n",
            "0.3814913393926901\n",
            "{'alpha': 0.1}\n",
            "-81.16943156834326\n",
            "-1.0004586113635283\n"
          ],
          "name": "stdout"
        }
      ]
    },
    {
      "cell_type": "markdown",
      "metadata": {
        "id": "Wv-4TaPHtyIy",
        "colab_type": "text"
      },
      "source": [
        "### Support Vector Machines"
      ]
    },
    {
      "cell_type": "code",
      "metadata": {
        "id": "lv8w1Ay8t0l-",
        "colab_type": "code",
        "colab": {}
      },
      "source": [
        "def svm_test(x,y):\n",
        "  from sklearn import svm, metrics\n",
        "  from sklearn.model_selection import GridSearchCV, train_test_split\n",
        "\n",
        "  x_train, x_test, y_train, y_test = train_test_split( \\\n",
        "    x, y, test_size=0.1)\n",
        "\n",
        "  Cs = [0.001, 0.01, 0.1, 1]\n",
        "  gammas = [1e-4, 1e-3, 0.01, 0.1]\n",
        "  kernels = ['linear']\n",
        "  param_grid = {'C': Cs, 'gamma' : gammas, 'kernel' : kernels}\n",
        "  svm_model = GridSearchCV(svm.SVR(), param_grid, cv=10)\n",
        "\n",
        "  svm_model.fit(x_train, y_train.values.ravel())\n",
        "\n",
        "  print(svm_model.best_params_)\n",
        "  print(svm_model.best_score_)\n",
        "\n",
        "  y_pred = svm_model.predict(x_test)\n",
        "\n",
        "  r2_score = metrics.r2_score(y_test, y_pred)\n",
        "  print(r2_score)\n",
        "  \n",
        "  return y_test, y_pred,svm_model.best_params_, svm_model.best_score_"
      ],
      "execution_count": 0,
      "outputs": []
    },
    {
      "cell_type": "code",
      "metadata": {
        "id": "0Ak4ZrhFuX77",
        "colab_type": "code",
        "outputId": "80631cf1-4600-4ffd-f4bf-d2ec0b7b4fdb",
        "colab": {
          "base_uri": "https://localhost:8080/",
          "height": 67
        }
      },
      "source": [
        "svm_y_test_ausgrain, svm_y_pred_ausgrain, svm_bestparam_ausgrain, svm_reg_bestscore_ausgrain = svm_test(aus_x_grain, aus_grainweight)\n",
        "#svm_y_test_aussalt, svm_y_pred_aussalt, svm_bestparam_aussalt, svm_bestscore_aussalt = svm_test(aus_x_salt, aus_salt)\n",
        "#svm_y_test_austime, svm_y_pred_austime, svm_bestparam_austime, svm_bestscore_austime = svm_test(aus_x_time, aus_flowertime)"
      ],
      "execution_count": 88,
      "outputs": [
        {
          "output_type": "stream",
          "text": [
            "{'C': 0.01, 'gamma': 0.0001, 'kernel': 'linear'}\n",
            "0.5116260726506504\n",
            "0.44764875895814016\n"
          ],
          "name": "stdout"
        }
      ]
    },
    {
      "cell_type": "code",
      "metadata": {
        "id": "8EMuMu7mxfrH",
        "colab_type": "code",
        "outputId": "c5caf4fe-4552-4f4c-f75f-f60b1d286d7c",
        "colab": {
          "base_uri": "https://localhost:8080/",
          "height": 67
        }
      },
      "source": [
        "svm_y_test_indicagrain, svm_y_pred_indicagrain, svm_bestparam_indicagrain, svm_bestscore_indicagrain = svm_test(indica_x_grain, indica_grainweight)\n",
        "#svm_y_test_indicasalt, svm_y_pred_indicasalt, svm_bestparam_indicasalt, svm_bestscore_indicasalt = svm_test(indica_x_salt, indica_salt)\n",
        "#svm_y_test_indicatime, svm_y_pred_indicatime, svm_bestparam_indicatime, svm_bestscore_indicatime = svm_test(indica_x_time, indica_flowertime)"
      ],
      "execution_count": 93,
      "outputs": [
        {
          "output_type": "stream",
          "text": [
            "{'C': 0.001, 'gamma': 0.0001, 'kernel': 'linear'}\n",
            "0.13858449004404932\n",
            "0.11209992223955512\n"
          ],
          "name": "stdout"
        }
      ]
    },
    {
      "cell_type": "markdown",
      "metadata": {
        "id": "Y8R-vtL2ms3U",
        "colab_type": "text"
      },
      "source": [
        "### Scatter plots on SVM data"
      ]
    },
    {
      "cell_type": "code",
      "metadata": {
        "id": "kgG2nuQ5Is5P",
        "colab_type": "code",
        "outputId": "9e894eac-5828-4bd9-de61-9c2cb8180323",
        "colab": {
          "base_uri": "https://localhost:8080/",
          "height": 282
        }
      },
      "source": [
        "import matplotlib.pyplot as plt\n",
        "\n",
        "print(aus_x_grain.shape)\n",
        "print(aus_grainweight)\n",
        "\n",
        "plt.subplot(3, 1, 1)\n",
        "plt.scatter(svm_y_test_ausgrain, svm_y_pred_ausgrain)\n",
        "\n",
        "plt.subplot(3, 1, 2)\n",
        "plt.scatter(svm_y_test_aussalt, svm_y_pred_aussalt)\n",
        "\n",
        "plt.subplot(3, 1, 3)\n",
        "plt.scatter(svm_y_test_austime, svm_y_pred_austime)"
      ],
      "execution_count": 0,
      "outputs": [
        {
          "output_type": "execute_result",
          "data": {
            "text/plain": [
              "<matplotlib.collections.PathCollection at 0x7f7c3cb07080>"
            ]
          },
          "metadata": {
            "tags": []
          },
          "execution_count": 15
        },
        {
          "output_type": "display_data",
          "data": {
            "image/png": "[encoded data removed]",
            "text/plain": [
              "<Figure size 432x288 with 3 Axes>"
            ]
          },
          "metadata": {
            "tags": [],
            "needs_background": "light"
          }
        }
      ]
    },
    {
      "cell_type": "code",
      "metadata": {
        "id": "Wf10jIw1q5qg",
        "colab_type": "code",
        "colab": {}
      },
      "source": [
        "print(svm_y_test_indicagrain.shape)\n",
        "print(svm_y_pred_indicagrain.shape)\n",
        "\n",
        "plt.subplot(3, 1, 1)\n",
        "plt.scatter(svm_y_test_indicagrain, svm_y_pred_indicagrain)\n",
        "\n",
        "plt.subplot(3, 1, 2)\n",
        "plt.scatter(svm_y_test_indicasalt, svm_y_pred_indicasalt)\n",
        "\n",
        "plt.subplot(3, 1, 3)\n",
        "plt.scatter(svm_y_test_indicaflower, svm_y_pred_indicatime)"
      ],
      "execution_count": 0,
      "outputs": []
    },
    {
      "cell_type": "markdown",
      "metadata": {
        "id": "6PS3Y1iTywZe",
        "colab_type": "text"
      },
      "source": [
        "### Compare Regression Results"
      ]
    }
  ]
}